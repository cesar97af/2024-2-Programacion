{
 "cells": [
  {
   "cell_type": "markdown",
   "metadata": {},
   "source": [
    "## Texto actividad"
   ]
  },
  {
   "cell_type": "markdown",
   "metadata": {},
   "source": [
    "Leer el archivo .txt"
   ]
  },
  {
   "cell_type": "code",
   "execution_count": null,
   "metadata": {},
   "outputs": [
    {
     "name": "stdout",
     "output_type": "stream",
     "text": [
      "Dark Souls III de Wikipedia la Enciclopedia Libre\n",
      "\n",
      "Dark Souls III (ダークソウルIII, Dāku Souru Surī) es un videojuego de rol de acción desarrollado por FromSoftware y publicado por Bandai Namco Entertainment para PlayStation 4, Xbox One y Microsoft Windows. Es la tercera y última entrega en la saga Souls,1​ lanzándose en Japón el 24 de marzo de 2016, y de manera mundial en abril del mismo año.2​3​\n",
      "\n",
      "Dark Souls III fue un éxito tanto de crítica como de ventas, con la crítica nombrando a este como un digno y adecuado final para la saga. Fue el juego de Bandai Namco que más rápido vendió en su historia,4​5​ alcanzando más de tres millones de copias en todo el mundo en menos de dos meses tras su lanzamiento6​y más de 10 millones en 20207​\n",
      "\n",
      "En total, el juego ha recibido 2 expansiones de pago (DLC): Ashes of Ariandel, lanzado el 24 de octubre de 20168​y The Ringed City, estrenado el 28 de marzo de 2017.9​Con el lanzamiento de esta última expansión, se preparó una edición especial GOTY que aunó tanto el juego base como los dos contenidos descargables y que recibió el nombre de Dark Souls III: The Fire Fades Edition, estando disponible en abril de 2017.10​\n",
      "\n",
      "Jugabilidad\n",
      "El juego presenta mecánicas similares a Dark Souls y Dark Souls II, aunque con algunas diferencias: Las animaciones del personaje son casi idénticas a las del primer título, pero ocurren a mayor rapidez; Al tomar los frascos de estus, el personaje se puede mover lentamente (en títulos anteriores el personaje no podía), la patada vuelve, y la búsqueda de fragmentos de estus, polvo de hueso, anillos, armas, armaduras, escudos, pergaminos mágicos, tomos de piromancias, milagros se mantiene, y la barra de magia vuelve (PC).\n",
      "\n",
      "El sistema de armadura y estabilidad (estadística que permite resistir golpes sin perder el balance) ha sido completamente cambiado en comparación de los otros 2 juegos, reduciendo sus capacidades defensivas y volviéndola más efectiva al tomar roles ofensivos en peleas, lo que resulta en una jugabilidad similar a Bloodborne.\n",
      "\n",
      "El título cuenta con un modo multijugador cooperativo, donde el jugador es ayudado por otras personas mediante \"señales de invocación\" para vencer jefes, enemigos, otros jugadores o zonas muy difíciles, aunque habrá un pequeño aumento de dificultad por el aumento de jugadores.\n",
      "\n",
      "También existe un modo PVP, donde tradicionalmente un jugador podría invadir a otro para intentar matarlo, o bien, se pueden usar señales de invocación. El modo PVP queda deshabilitado durante batallas de jefes\n",
      "\n",
      "Historia\n",
      "Argumento\n",
      "Dark Souls 3 es el final de la saga y presenta un mundo, el Reino de Lothric, al borde del Apocalipsis por culpa de \"la maldición de los no muertos\", y la razón por la que el mundo aún no se ha sumido en la oscuridad totalmente es el sacrificio que muchos héroes e incluso dioses hicieron al reavivar la llama original, la cual se encarga de mantener la \"Era del fuego\", dejando que esta consumiera sus respectivas almas y cuerpos.\n",
      "\n",
      "El protagonista, el personaje al que se da vida en este título, es uno de los que llaman \"Latentes\"; estas personas son humanos que consiguieron llegar al horno de la Primera Llama y trataron de enlazarla, pero fueron consumidos y hechos ceniza sin conseguir su objetivo. Estos humanos son despertados cuando los Señores de la Ceniza (aquellos que sí que fueron suficientemente poderosos como para enlazar la Primera Llama) son despertados pero no cumplen su deber: quedarse en sus tronos (en el Santuario de Enlace del Fuego) hasta que se les vuelva a sacrificar para enlazar la Primera Llama. Es decir, cuando los Señores de la Ceniza no quieren volver a prolongar la Era de los Dioses (la era del fuego) y abandonan sus tronos, los Latentes deben ir a por ellos para matarlos y devolver sus cenizas a los tronos y el Latente que lo consiga deberá, como última parte del plan, inmolarse él mismo, convirtiéndose de esta forma en un Señor de la Ceniza.\n",
      "\n",
      "En el final del juego, cuando se reúnan las cenizas de todos los Señores de la Ceniza, hay que realizar el ritual de enlace del fuego, con la ayuda de la Guardiana del Fuego, e ir al horno de la Primera Llama. Allí, el jugador ha de enfrentarse con el Alma de Ceniza, y cuando sea derrotado, se tendrá la más importante de todas las decisiones: enlazar la Primera Llama, extendiendo así la Era del Fuego; dejar que se apague, comenzando así la Era de la Oscuridad; robar el poder de la Primera Llama, comenzando la Era de la Oscuridad, pero conservando en el personaje elegido el poder de la Primera Llama; o robar el poder de la Primera Llama, pero en vez de sencillamente quedárselo, se puede convertir en el Señor de la Era de la Oscuridad.\n",
      "\n",
      "Personajes\n",
      "Señores de la ceniza\n",
      "Estos Señores de la Ceniza son cinco (pese a que se supone que muchos más humanos y Dioses se han inmolado a lo largo de la historia):\n",
      "\n",
      "Vigilantes del Abismo. El primer Señor de la Ceniza con el que se enfrenta el personaje elegido es un colectivo. Estos caballeros son el legado de Artorias (de Dark Souls I). Su misión, antes de ser Señores de la Ceniza, era la de combatir el Abismo; si algún ciudadano veía esa característica armadura de los Vigilantes en su hogar, no eran buenas noticias, pues el Abismo se encontraba allí, y los Vigilantes acabarían con él o al menos lo frenarían a toda costa, inundando o sepultando el lugar, si era necesario.\n",
      "\n",
      "Aldrich. El segundo Señor de la Ceniza al que hay que enfrentarse es Aldrich, Santo de la Oscuridad. Este terrible ser comenzó siendo un simple clérigo de la Catedral de la Oscuridad (Cathedral of the Deep: significa, de hecho, catedral de la profundidad, pero se tradujo así). Pero desarrolló un enfermizo gusto por la carne humana, llegando a devorar incluso a un Dios, Gwyndolin, que estaba en Anor Londo. Así pues, tal y como nos dice Hawkwood, el desertor, a este caníbal le hicieron Señor de la Ceniza por poder y no por virtud.\n",
      "\n",
      "Yhorm. El tercer Señor de la Ceniza es Yhorm el gigante, Señor de la Capital Profanada. Este era un descendiente de un conquistador (esto es una referencia a la guerra entre Drangleic y los gigantes, explicada en Dark Souls II), que amaba a su pueblo, pero este no lo correspondía; debido a esta situación, Yhorm decidió hacer dos cosas: la primera, fue entregar dos espadas, llamadas \"Soberano de las Tormentas\", una a su pueblo, y la otra a su gran amigo Sigward, de los caballeros de Catarina. Hizo estos regalos porque estas espadas son su punto débil. La otra cosa que hizo, fue intentar acabar con la Llama Profanada, una peligrosa llama que algunos creen que es una sustitución del lecho del caos (de Dark Souls I). Para cumplir esta tarea, enlazó la Primera Llama. Sin embargo, esto no fue suficiente y la Llama Profanada cobró tal fuerza, que arrasó la Capital Profanada. No quemó sino carne humana. Sólo unos pocos sobrevivieron, y estos fueron más tarde los carceleros de la Mazmorra de Irithyll.\n",
      "\n",
      "Lorian y Lothric. El último Señor de la Ceniza es el Príncipe Lothric, custodiado por su hermano Lorian. Hay bastante polémica alrededor de este \"jefe final\"; y es que se nos da a entender en varios objetos que Lorian y Lothric rechazaron su destino; esto haría parecer que no enlazaron la Primera Llama, sin embargo, Lorian está envuelto en llamas, como los Latentes en estado Ascua, en su segunda fase. Esto haría indicar que sí que enlazaron la Llama. Con lo que respecta al lore de estos personajes: Lorian es el mayor de los hermanos. Antes de que naciera Lothric, servía como caballero para el Reino. Llegó, incluso, a derrotar al Príncipe Demonio, y por ello su espada está envuelta por llamas, permanentemente. Cuando nació su hermano pequeño, este resultó ser deforme y enfermizo; estos defectos son explicados porque sus padres, el Rey Oceiros y la Reina (no se sabe quién es, aunque la hipótesis de que es Gwynevere es muy sólida), recurrieron a medios infames para conseguir al heredero perfecto para enlazar la Primera Llama. Lorian decidió compartir la maldición de su hermano, de tal forma que sus almas están conectadas; y Lorian, por compartir esta carga, se quedó mudo e inválido. Estos príncipes no querían enlazar la Primera Llama porque el Primer Erudito, que era su tutor particular, les convenció de que el legado de los Señores de la Ceniza, el Enlace del Fuego, no era una buena opción. La identidad de este Primer Erudito se desconoce, aunque lo más probable es que sea el Pontífice Sulyvahn, un personaje clave en el Lore de Dark Souls 3.\n",
      "\n",
      "Ludleth. Por último, está Ludleth, el Exiliado. Este es el único Señor de la Ceniza que no ha abandonado su trono. Este hombre era un Rey que descuidó sus tierras para dedicarse al estudio de la Transposición de Almas, un arte prohibido en su Reino, Courland. Si se derrota al Gran Árbol Corrompido, se obtendrá el horno de transposición. Al entregárselo a Ludleth, éste ayudará al jugador al transformar las almas de los jefes derrotados en armas, anillos y magias.\n",
      "\n",
      "Expansiones\n",
      "Ashes of Ariandel\n",
      "Esta primera expansión introduce una nueva área: el Mundo Pintado de Ariandel. Al llegar a la Catedral de la Oscuridad en el juego base, el Latente se encuentra con Gael, un caballero errante que implora entrar en el Mundo Pintado y cumplir una profecía para traer \" El Fuego para Ariandel\". Los habitantes de este mundo piden al jugador que queme el Mundo Pintado según la profecía o que lo deje pudrirse lentamente. Una chica pintora le cuenta al Latente sobre la promesa del \"Tío Gael\" de encontrarle tintes para pintar un nuevo mundo. La decisión del jugador de proceder provoca la frialdad en la Hermana Friede, la guardiana autoproclamada del mundo. Cuando el jugador intenta acceder al santuario interior, ella y el Padre Ariandel luchan contra ellos como jefes. Tras su derrota, el Mundo Pintado es incendiado. La pintora agradece al jugador por mostrarle la llama y espera a Gael para el Alma Oscura, que ella puede usar para pintar un nuevo mundo para la humanidad.\n",
      "\n",
      "The Ringed City\n",
      "En esta segunda expansión, el Latente comienza su viaje hacia un área conocida como \"El Montón de residuos\", donde reinos arruinados de diferentes eras se amontonan unos sobre otros mientras el mundo llega a su fin. Desde el Montón de residuos, después de luchar a través de las ruinas del Castillo de Lothric, el Latente se encuentra con el caballero amnésico Lapp, quien no puede recordar su pasado. A lo largo de la zona, mensajes de Gael de la anterior expansión guían al jugador. El Latente atraviesa los restos de Pico terrenal, un área encontrada en Dark Souls II, antes de enfrentarse al último remanente de la raza de demonios, el Príncipe Demonio, en la base de un Archtree que contiene las ruinas del Santuario de Enlace de Fuego de Dark Souls. Victorioso, el jugador viaja a la Ciudad Anillada, una antigua ciudad de Pigmeos, los ancestros de la humanidad, que ha caído en el Abismo. Después de derrotar al Guardián de la Iglesia de Filianore, el jugador despierta a Filianore, la hija del Señor Gwyn, quien fue confiada a la Ciudad Anillada como un símbolo de paz entre Gwyn y los Señores Pigmeos. Esto los transporta a un desierto arruinado de ceniza, que puede interpretarse como un salto en el tiempo o el levantamiento de una ilusión creada por Filianore. Allí, el Latente se encuentra con un desaliñado Gael, quien ha comenzado a matar a los Señores Pigmeos para obtener la sangre del Alma Oscura de los Pigmeos para que la chica pintora en Ariandel la use como tinta. Después de consumir el Alma Oscura, Gael acaba corrompido por su poder y demanda la porción del Latente. Finalmente es derrotado, permitiendo al jugador obtener su sangre (que contiene el Alma Oscura) dando la posibilidad de entregarselo a la pintora en Ariandel, quien la usa para pintar un nuevo mundo para la humanidad.\n",
      "\n",
      "Desarrollo\n",
      "El desarrollo de Dark Souls III comenzó en 2013.11​ En ese momento, FromSoftware se encontraba produciendo varios títulos: por un lado, el DLC de Dark Souls II y, por otro, Bloodborne, el cual su etapa final de desarrollo se solapó durante un año entero con el comienzo de Dark Souls III . A pesar de que ambos equipos trabajaron de forma independiente, Hidetaka Miyazaki pudo dirigir ambos proyectos simultáneamente gracias, en parte, a la delegación que hizo sus subdirectores: Isamu Okano y Yui Tanimura, los directores de Steel Battalion: Heavy Armor y Dark Souls II respectivamente,12​ siendo principalmente Okano quien se hizo cargo de la logística de la producción para facilitar la ejecución de la visión de Miyazaki.\n",
      "\n",
      "Las experiencias que tuvo durante la producción de Bloodborne le hicieron replantear nuevas mecánicas para esta entrega de la serie Dark Souls,13​ dando más versatilidad al jugador a la hora de poder construir sus propias tácticas y equipos.14​ El diseño de niveles del juego se creó para convertirse en otro \"enemigo\" que el jugador debe enfrentar.15​ Sin embargo, al igual que los anteriores juegos narran sus historias, Dark Souls III desarrolla la trama con una fuerte ambigüedad: los jugadores pueden conocer la historia solo a través de la conversación con personajes no jugables (NPCs), el diseño artístico y el texto descriptivo de los objetos. Debido a esto, Miyazaki afirma que no hay una historia oficial y única. Su intención al diseñar este juego fue no imponer su punto de vista, afirmando que cualquier intento de descubrir y entender la trama y ese mundo es bienvenido.16​\n",
      "\n",
      "La banda sonora original del juego fue escrita principalmente por Yuka Kitamura, compositora de Dark Souls II y Bloodborne, en colaboración con Motoi Sakuraba, compositor de Dark Souls, que participó en el diseño de la música adicional del juego. Además, Tsukasa Saitoh y Nobuyoshi Suzuki, ambos encargados de componer algunas de las piezas que se escuchan durante los encuentros de los jefes de Bloodborne , vuelven a repetir rol para musicalizar las batallas de Dark Souls III.17​ La ambientación musical bebe de partituras góticas (muy en consonancia con el apartado artístico) en donde destacan acordes masivos de metales y coros sombrios para crear una sensación de abrumamiento durante los enfrentamientos principales.18​ Debido a que el juego carece de acompañamiento sonoro durante la exploración de los diversos mapas, su aparición en ciertos momentos lo identifican como un recurso que confiere una sensación de importancia y solemnidad a cada combate contra un jefe.19​ Otra de las características más importantes de su aspecto sonoro es el uso del leitmotiv, evocado precisamente en elementos muy puntuales del juego para reconocer personajes o lugares. Esto se acentúa en esta tecera parte como herramienta narrativa para conexiar los juegos anteriores y concluir los ciclos eternos de la primera llama y de la trilogía en sí misma, maximizado en la identificación de dos temas icónicos en el encuentro final: El Santuario de Enlace de Fuego y de Gwyn, Señor de la Ceniza y jefe final del primer Dark Souls, cuya famosa pieza puede ser escuchada durante la segunda fase de esta batalla. 18​\n",
      "\n",
      "A pesar de la sensación de cierre y que el propio Miyazaki declaró que inicialmente no habría más secuelas,20​ durante la presentación oficial en la E3 de 2015, este añadió que el juego no sería el último de la serie. En palabras del propio director, esto significaba un \"punto de inflexión\" tanto para la franquicia como para el estudio, ya que fue el último proyecto de FromSoftware antes de que se convirtiera en presidente de la empresa.21​22​\n",
      "\n",
      "Dark Souls III recibió críticas \"generalmente favorables\" según el agregador de reseñas Metacritic,[23]​ con elogios dirigidos a los aspectos visuales del juego y sus mecánicas de combate, que recordaron a los críticos su similitud con el ritmo más rápido de Bloodborne. Para el sitio web Opencritic, recibió la calificación \"Mighty\" con un 94% de críticas recomendadas[24]​\n",
      "\n",
      "Carlos Leiva, de Vandal, le otorgó un 9.5/10 y destacó la espectacularidad de los encuentros finales, siendo más ágiles y heroicos que sus antecesores y su refinado apartado artístico y musical, considerando su banda sonora como la mejor de toda la serie souls.[25]​ Juan García, de IGN Spain, profundiza en su sistema de combate y resalta la naturalidad de la integración de la rapidez del sistema de combate de Bloodborne con la pausalidad y estrategia de Dark Souls II.[26]​ El equipo de 3D Juegos le otorgó de \"Imprescindible\" al considerar Dark Souls III como el juego \"más trabajado e importante de lo que va de año, que marcará un antes y un después en la historia de un tipo de videojuego\".[27]​ Categoría con el que coincide Salva Fernàndez de Meristation, al sobresaltar la maginifcencia del título con un 100/100 por y considerarlo un \"coloso de su generación que seguirá siendo comentado y recordado en el futuro\".[28]​\n",
      "\n",
      "Sin embargo, a pesar de la unanimidad de su excelencia, la última entrega de la saga recibió críticas negativas dirigida a problemas con el rendimiento técnico del juego y el diseño lineal del mapa. A tenor de este último, el analista Philip Kollar de Polygon calificó el juego con un 7 de 10, expresando de manera directa su decepción por la falta de sorpresas y la naturaleza arbitraria del diseño del juego, escribiendo que \"en muchos aspectos importantes: el diseño del mundo, el ritmo, la tecnología que lo impulsa, Dark Souls III no alcanza el objetivo\".[29]​ Esta linealidad, que muchos críticos señalan como un mal menor, es a ojos de Fu Olmos, del portal Anait, una decisión de diseño que, bien utilizado, se comunica con el jugador sin dar indicaciones explícitas. En Dark Souls III, esto se hace mediante la integración de la curva de dificultad y de los elementos del entorno como emboscadas, enemigos poderosos, caídas altas, ventanas abiertas y hogueras colocadas estratégicamente que incitan al jugador a explorar y resolver el \"rompecabezas\" de cómo alcanzarlas.[30]\n",
      "\n",
      "Referencias\n",
      "↑ «Dark Souls 3 Interview: \"It Wouldn't Be Right to Continue Creating Souls\"» (en inglés estadounidense). 20 de noviembre de 2015. Consultado el 1 de julio de 2024.\n",
      "↑ «Fecha de lanzamiento de Dark Souls III para PS4». Consultado el 2 de julio de 2016.\n",
      "↑ «'Dark Souls 3' and the Problem with Regional Release Dates». Inverse (en inglés). 8 de abril de 2016. Consultado el 1 de julio de 2024.\n",
      "↑ Porter, Matt (18 de abril de 2016). «Dark Souls 3 Is Bandai Namco's Fastest-Selling Game Ever». IGN (en inglés). Consultado el 1 de julio de 2024.\n",
      "↑ Peckham, Matt (18 de abril de 2016). «Dark Souls III Is the Fastest Selling Souls Game Yet». TIME (en inglés). Consultado el 1 de julio de 2024.\n",
      "↑ Rajala, Arttu (11 de mayo de 2016). «Dark Souls III sells 3 million, series at 13 million». Gamereactor UK (en inglés). Consultado el 1 de julio de 2024.\n",
      "↑ «Dark Souls 3 Has Sold Over 10 Million Copies, Pushing Series Total To New Milestone». GameSpot (en inglés estadounidense). Consultado el 1 de julio de 2024.\n",
      "↑ «Dark Souls 3 DLC Released Early on Xbox One by Accident [UPDATE]». GameSpot (en inglés estadounidense). Consultado el 1 de julio de 2024.\n",
      "↑ «Dark Souls III ‘The Ringed City’ DLC launches March 28». Gematsu (en inglés estadounidense). 23 de enero de 2017. Consultado el 1 de julio de 2024.\n",
      "↑ Briesenick, Stefan (21 de abril de 2017). «Dark Souls 3: The Fire Fades Edition, llega la edición GOTY». Gamereactor España. Consultado el 1 de julio de 2024.\n",
      "↑ Contributor, Brenna Hillier (18 de junio de 2015). «Dark Souls 3 has been in the works for two years». VG247 (en inglés). Consultado el 1 de julio de 2024.\n",
      "↑ «Dark Souls 3 is being developed by a different team to Bloodborne - Dark Souls 3 for PS4 News». web.archive.org. 17 de junio de 2015. Consultado el 1 de julio de 2024.\n",
      "↑ «Bloodborne's Limitation Made Miyazaki Return to Dark Souls 3». web.archive.org. 16 de septiembre de 2018. Consultado el 1 de julio de 2024.\n",
      "↑ McWhertor, Michael (10 de agosto de 2015). «Hidetaka Miyazaki on Dark Souls 3's changes to bosses, magic, combat and more». Polygon (en inglés estadounidense). Consultado el 2 de julio de 2024.\n",
      "↑ «Dark Souls 3: “everything is designed to kill you” | VG247». web.archive.org. 1 de agosto de 2016. Consultado el 1 de julio de 2024.\n",
      "↑ «Dark Souls 3: Miyazaki explains the difference between “difficult” and “unreasonable” | VG247». web.archive.org. 29 de diciembre de 2016. Consultado el 2 de julio de 2024.\n",
      "↑ «VGMO -Video Game Music Online- » Dark Souls III composers and soundtrack detailed». web.archive.org. 24 de noviembre de 2019. Consultado el 2 de julio de 2024.\n",
      "↑ Saltar a: a b Tré Bryant. «The Crackle of the First Flame: The Sounds and Musical Techniques of Dark Souls». Consultado el 2 de julio de 2024.\n",
      "↑ Freitas, Joana (2020). «From epic fail to epic music: music, silence and failure on \"Dark Souls 3\"». Journal of Sound, Silence, Image and Technology (en inglés) (3): 55-74. ISSN 2604-451X. Consultado el 2 de julio de 2024.\n",
      "↑ «Miyazaki: Dark Souls Shouldn't Have Multiple Sequels - IGN». web.archive.org. 19 de abril de 2019. Consultado el 1 de julio de 2024.\n",
      "↑ Scammell, David (17 de junio de 2015). «Dark Souls 3 isn't the last game in the series, Miyazaki clarifies». VideoGamer (en inglés estadounidense). Consultado el 1 de julio de 2024.\n",
      "↑ Editor, Rachel Weber Senior (21 de mayo de 2014). «Hidetaka Miyazaki named From Software president». GamesIndustry.biz (en inglés). Consultado el 2 de julio de 2024.\n",
      "↑ «Dark Souls III». www.metacritic.com (en inglés). Consultado el 2 de julio de 2024.\n",
      "↑ «Dark Souls III Reviews». OpenCritic (en inglés). 4 de abril de 2016. Consultado el 2 de julio de 2024.\n",
      "↑ «Análisis Dark Souls III - PS4, Xbox One, PC». Vandal. 4 de abril de 2016. Consultado el 2 de julio de 2024.\n",
      "↑ las 09:07, Juan García Actualizado el 8 de abril de 2016 a las 16:20 Publicado el 4 de abril de 2016 a (4 de abril de 2016). «Dark Souls 3. Análisis para PS4, Xbox One y PC». IGN España. Consultado el 2 de julio de 2024.\n",
      "↑ de 3DJuegos, El equipo (4 de abril de 2016). «Análisis de Dark Souls III. El último gran esfuerzo del alma». 3DJuegos. Consultado el 2 de julio de 2024.\n",
      "↑ Fernàndez, Salva (4 de julio de 2017). «Análisis de Dark Souls 3». Meristation. Consultado el 2 de julio de 2024.\n",
      "↑ «Dark Souls 3 review | Polygon». web.archive.org. 9 de julio de 2021. Consultado el 2 de julio de 2024.\n",
      "↑ Olmos, Fu (19 de mayo de 2016). «Dark Souls III: Arqueología de la ruina». AnaitGames. Consultado el 2 de julio de 2024.\n"
     ]
    }
   ],
   "source": [
    "def leer_archivo(ruta_archivo):\n",
    "    with open(ruta_archivo, 'r', encoding=\"utf8\") as archivo:  # Obliatorio \"encoding=\"utf8\"\" debido a la naturaleza del archivo\n",
    "        contenido = archivo.read()\n",
    "    return contenido\n",
    "\n",
    "#Imprimir\n",
    "ruta_archivo =r\"C:\\Users\\cesar\\Downloads\\Texto\\Dark Souls III.txt\"  # Ubicación del archivo\n",
    "texto = leer_archivo(ruta_archivo)\n",
    "print(texto)  # Imprime los caracteres del archivo"
   ]
  },
  {
   "cell_type": "markdown",
   "metadata": {},
   "source": [
    " Filtración de las palabras para eliminar cualquier carácter especial"
   ]
  },
  {
   "cell_type": "code",
   "execution_count": null,
   "metadata": {},
   "outputs": [
    {
     "name": "stdout",
     "output_type": "stream",
     "text": [
      "Dark Souls III de Wikipedia la Enciclopedia Libre\n",
      "\n",
      "Dark Souls III III Dku Souru Sur es un videojuego de rol de accin desarrollado por FromSoftware y publicado por Bandai Namco Entertainment para PlayStation  Xbox One y Microsoft Windows Es la tercera y ltima entrega en la saga Souls lanzndose en Japn el  de marzo de  y de manera mundial en abril del mismo ao\n",
      "\n",
      "Dark Souls III fue un xito tanto de crtica como de ventas con la crtica nombrando a este como un digno y adecuado final para la saga Fue el juego de Bandai Namco que ms rpido vendi en su historia alcanzando ms de tres millones de copias en todo el mundo en menos de dos meses tras su lanzamientoy ms de  millones en \n",
      "\n",
      "En total el juego ha recibido  expansiones de pago DLC Ashes of Ariandel lanzado el  de octubre de y The Ringed City estrenado el  de marzo de Con el lanzamiento de esta ltima expansin se prepar una edicin especial GOTY que aun tanto el juego base como los dos contenidos descargables y que recibi el nombre de Dark Souls III The Fire Fades Edition estando disponible en abril de \n",
      "\n",
      "Jugabilidad\n",
      "El juego presenta mecnicas similares a Dark Souls y Dark Souls II aunque con algunas diferencias Las animaciones del personaje son casi idnticas a las del primer ttulo pero ocurren a mayor rapidez Al tomar los frascos de estus el personaje se puede mover lentamente en ttulos anteriores el personaje no poda la patada vuelve y la bsqueda de fragmentos de estus polvo de hueso anillos armas armaduras escudos pergaminos mgicos tomos de piromancias milagros se mantiene y la barra de magia vuelve PC\n",
      "\n",
      "El sistema de armadura y estabilidad estadstica que permite resistir golpes sin perder el balance ha sido completamente cambiado en comparacin de los otros  juegos reduciendo sus capacidades defensivas y volvindola ms efectiva al tomar roles ofensivos en peleas lo que resulta en una jugabilidad similar a Bloodborne\n",
      "\n",
      "El ttulo cuenta con un modo multijugador cooperativo donde el jugador es ayudado por otras personas mediante seales de invocacin para vencer jefes enemigos otros jugadores o zonas muy difciles aunque habr un pequeo aumento de dificultad por el aumento de jugadores\n",
      "\n",
      "Tambin existe un modo PVP donde tradicionalmente un jugador podra invadir a otro para intentar matarlo o bien se pueden usar seales de invocacin El modo PVP queda deshabilitado durante batallas de jefes\n",
      "\n",
      "Historia\n",
      "Argumento\n",
      "Dark Souls  es el final de la saga y presenta un mundo el Reino de Lothric al borde del Apocalipsis por culpa de la maldicin de los no muertos y la razn por la que el mundo an no se ha sumido en la oscuridad totalmente es el sacrificio que muchos hroes e incluso dioses hicieron al reavivar la llama original la cual se encarga de mantener la Era del fuego dejando que esta consumiera sus respectivas almas y cuerpos\n",
      "\n",
      "El protagonista el personaje al que se da vida en este ttulo es uno de los que llaman Latentes estas personas son humanos que consiguieron llegar al horno de la Primera Llama y trataron de enlazarla pero fueron consumidos y hechos ceniza sin conseguir su objetivo Estos humanos son despertados cuando los Seores de la Ceniza aquellos que s que fueron suficientemente poderosos como para enlazar la Primera Llama son despertados pero no cumplen su deber quedarse en sus tronos en el Santuario de Enlace del Fuego hasta que se les vuelva a sacrificar para enlazar la Primera Llama Es decir cuando los Seores de la Ceniza no quieren volver a prolongar la Era de los Dioses la era del fuego y abandonan sus tronos los Latentes deben ir a por ellos para matarlos y devolver sus cenizas a los tronos y el Latente que lo consiga deber como ltima parte del plan inmolarse l mismo convirtindose de esta forma en un Seor de la Ceniza\n",
      "\n",
      "En el final del juego cuando se renan las cenizas de todos los Seores de la Ceniza hay que realizar el ritual de enlace del fuego con la ayuda de la Guardiana del Fuego e ir al horno de la Primera Llama All el jugador ha de enfrentarse con el Alma de Ceniza y cuando sea derrotado se tendr la ms importante de todas las decisiones enlazar la Primera Llama extendiendo as la Era del Fuego dejar que se apague comenzando as la Era de la Oscuridad robar el poder de la Primera Llama comenzando la Era de la Oscuridad pero conservando en el personaje elegido el poder de la Primera Llama o robar el poder de la Primera Llama pero en vez de sencillamente quedrselo se puede convertir en el Seor de la Era de la Oscuridad\n",
      "\n",
      "Personajes\n",
      "Seores de la ceniza\n",
      "Estos Seores de la Ceniza son cinco pese a que se supone que muchos ms humanos y Dioses se han inmolado a lo largo de la historia\n",
      "\n",
      "Vigilantes del Abismo El primer Seor de la Ceniza con el que se enfrenta el personaje elegido es un colectivo Estos caballeros son el legado de Artorias de Dark Souls I Su misin antes de ser Seores de la Ceniza era la de combatir el Abismo si algn ciudadano vea esa caracterstica armadura de los Vigilantes en su hogar no eran buenas noticias pues el Abismo se encontraba all y los Vigilantes acabaran con l o al menos lo frenaran a toda costa inundando o sepultando el lugar si era necesario\n",
      "\n",
      "Aldrich El segundo Seor de la Ceniza al que hay que enfrentarse es Aldrich Santo de la Oscuridad Este terrible ser comenz siendo un simple clrigo de la Catedral de la Oscuridad Cathedral of the Deep significa de hecho catedral de la profundidad pero se tradujo as Pero desarroll un enfermizo gusto por la carne humana llegando a devorar incluso a un Dios Gwyndolin que estaba en Anor Londo As pues tal y como nos dice Hawkwood el desertor a este canbal le hicieron Seor de la Ceniza por poder y no por virtud\n",
      "\n",
      "Yhorm El tercer Seor de la Ceniza es Yhorm el gigante Seor de la Capital Profanada Este era un descendiente de un conquistador esto es una referencia a la guerra entre Drangleic y los gigantes explicada en Dark Souls II que amaba a su pueblo pero este no lo corresponda debido a esta situacin Yhorm decidi hacer dos cosas la primera fue entregar dos espadas llamadas Soberano de las Tormentas una a su pueblo y la otra a su gran amigo Sigward de los caballeros de Catarina Hizo estos regalos porque estas espadas son su punto dbil La otra cosa que hizo fue intentar acabar con la Llama Profanada una peligrosa llama que algunos creen que es una sustitucin del lecho del caos de Dark Souls I Para cumplir esta tarea enlaz la Primera Llama Sin embargo esto no fue suficiente y la Llama Profanada cobr tal fuerza que arras la Capital Profanada No quem sino carne humana Slo unos pocos sobrevivieron y estos fueron ms tarde los carceleros de la Mazmorra de Irithyll\n",
      "\n",
      "Lorian y Lothric El ltimo Seor de la Ceniza es el Prncipe Lothric custodiado por su hermano Lorian Hay bastante polmica alrededor de este jefe final y es que se nos da a entender en varios objetos que Lorian y Lothric rechazaron su destino esto hara parecer que no enlazaron la Primera Llama sin embargo Lorian est envuelto en llamas como los Latentes en estado Ascua en su segunda fase Esto hara indicar que s que enlazaron la Llama Con lo que respecta al lore de estos personajes Lorian es el mayor de los hermanos Antes de que naciera Lothric serva como caballero para el Reino Lleg incluso a derrotar al Prncipe Demonio y por ello su espada est envuelta por llamas permanentemente Cuando naci su hermano pequeo este result ser deforme y enfermizo estos defectos son explicados porque sus padres el Rey Oceiros y la Reina no se sabe quin es aunque la hiptesis de que es Gwynevere es muy slida recurrieron a medios infames para conseguir al heredero perfecto para enlazar la Primera Llama Lorian decidi compartir la maldicin de su hermano de tal forma que sus almas estn conectadas y Lorian por compartir esta carga se qued mudo e invlido Estos prncipes no queran enlazar la Primera Llama porque el Primer Erudito que era su tutor particular les convenci de que el legado de los Seores de la Ceniza el Enlace del Fuego no era una buena opcin La identidad de este Primer Erudito se desconoce aunque lo ms probable es que sea el Pontfice Sulyvahn un personaje clave en el Lore de Dark Souls \n",
      "\n",
      "Ludleth Por ltimo est Ludleth el Exiliado Este es el nico Seor de la Ceniza que no ha abandonado su trono Este hombre era un Rey que descuid sus tierras para dedicarse al estudio de la Transposicin de Almas un arte prohibido en su Reino Courland Si se derrota al Gran rbol Corrompido se obtendr el horno de transposicin Al entregrselo a Ludleth ste ayudar al jugador al transformar las almas de los jefes derrotados en armas anillos y magias\n",
      "\n",
      "Expansiones\n",
      "Ashes of Ariandel\n",
      "Esta primera expansin introduce una nueva rea el Mundo Pintado de Ariandel Al llegar a la Catedral de la Oscuridad en el juego base el Latente se encuentra con Gael un caballero errante que implora entrar en el Mundo Pintado y cumplir una profeca para traer  El Fuego para Ariandel Los habitantes de este mundo piden al jugador que queme el Mundo Pintado segn la profeca o que lo deje pudrirse lentamente Una chica pintora le cuenta al Latente sobre la promesa del To Gael de encontrarle tintes para pintar un nuevo mundo La decisin del jugador de proceder provoca la frialdad en la Hermana Friede la guardiana autoproclamada del mundo Cuando el jugador intenta acceder al santuario interior ella y el Padre Ariandel luchan contra ellos como jefes Tras su derrota el Mundo Pintado es incendiado La pintora agradece al jugador por mostrarle la llama y espera a Gael para el Alma Oscura que ella puede usar para pintar un nuevo mundo para la humanidad\n",
      "\n",
      "The Ringed City\n",
      "En esta segunda expansin el Latente comienza su viaje hacia un rea conocida como El Montn de residuos donde reinos arruinados de diferentes eras se amontonan unos sobre otros mientras el mundo llega a su fin Desde el Montn de residuos despus de luchar a travs de las ruinas del Castillo de Lothric el Latente se encuentra con el caballero amnsico Lapp quien no puede recordar su pasado A lo largo de la zona mensajes de Gael de la anterior expansin guan al jugador El Latente atraviesa los restos de Pico terrenal un rea encontrada en Dark Souls II antes de enfrentarse al ltimo remanente de la raza de demonios el Prncipe Demonio en la base de un Archtree que contiene las ruinas del Santuario de Enlace de Fuego de Dark Souls Victorioso el jugador viaja a la Ciudad Anillada una antigua ciudad de Pigmeos los ancestros de la humanidad que ha cado en el Abismo Despus de derrotar al Guardin de la Iglesia de Filianore el jugador despierta a Filianore la hija del Seor Gwyn quien fue confiada a la Ciudad Anillada como un smbolo de paz entre Gwyn y los Seores Pigmeos Esto los transporta a un desierto arruinado de ceniza que puede interpretarse como un salto en el tiempo o el levantamiento de una ilusin creada por Filianore All el Latente se encuentra con un desaliado Gael quien ha comenzado a matar a los Seores Pigmeos para obtener la sangre del Alma Oscura de los Pigmeos para que la chica pintora en Ariandel la use como tinta Despus de consumir el Alma Oscura Gael acaba corrompido por su poder y demanda la porcin del Latente Finalmente es derrotado permitiendo al jugador obtener su sangre que contiene el Alma Oscura dando la posibilidad de entregarselo a la pintora en Ariandel quien la usa para pintar un nuevo mundo para la humanidad\n",
      "\n",
      "Desarrollo\n",
      "El desarrollo de Dark Souls III comenz en  En ese momento FromSoftware se encontraba produciendo varios ttulos por un lado el DLC de Dark Souls II y por otro Bloodborne el cual su etapa final de desarrollo se solap durante un ao entero con el comienzo de Dark Souls III  A pesar de que ambos equipos trabajaron de forma independiente Hidetaka Miyazaki pudo dirigir ambos proyectos simultneamente gracias en parte a la delegacin que hizo sus subdirectores Isamu Okano y Yui Tanimura los directores de Steel Battalion Heavy Armor y Dark Souls II respectivamente siendo principalmente Okano quien se hizo cargo de la logstica de la produccin para facilitar la ejecucin de la visin de Miyazaki\n",
      "\n",
      "Las experiencias que tuvo durante la produccin de Bloodborne le hicieron replantear nuevas mecnicas para esta entrega de la serie Dark Souls dando ms versatilidad al jugador a la hora de poder construir sus propias tcticas y equipos El diseo de niveles del juego se cre para convertirse en otro enemigo que el jugador debe enfrentar Sin embargo al igual que los anteriores juegos narran sus historias Dark Souls III desarrolla la trama con una fuerte ambigedad los jugadores pueden conocer la historia solo a travs de la conversacin con personajes no jugables NPCs el diseo artstico y el texto descriptivo de los objetos Debido a esto Miyazaki afirma que no hay una historia oficial y nica Su intencin al disear este juego fue no imponer su punto de vista afirmando que cualquier intento de descubrir y entender la trama y ese mundo es bienvenido\n",
      "\n",
      "La banda sonora original del juego fue escrita principalmente por Yuka Kitamura compositora de Dark Souls II y Bloodborne en colaboracin con Motoi Sakuraba compositor de Dark Souls que particip en el diseo de la msica adicional del juego Adems Tsukasa Saitoh y Nobuyoshi Suzuki ambos encargados de componer algunas de las piezas que se escuchan durante los encuentros de los jefes de Bloodborne  vuelven a repetir rol para musicalizar las batallas de Dark Souls III La ambientacin musical bebe de partituras gticas muy en consonancia con el apartado artstico en donde destacan acordes masivos de metales y coros sombrios para crear una sensacin de abrumamiento durante los enfrentamientos principales Debido a que el juego carece de acompaamiento sonoro durante la exploracin de los diversos mapas su aparicin en ciertos momentos lo identifican como un recurso que confiere una sensacin de importancia y solemnidad a cada combate contra un jefe Otra de las caractersticas ms importantes de su aspecto sonoro es el uso del leitmotiv evocado precisamente en elementos muy puntuales del juego para reconocer personajes o lugares Esto se acenta en esta tecera parte como herramienta narrativa para conexiar los juegos anteriores y concluir los ciclos eternos de la primera llama y de la triloga en s misma maximizado en la identificacin de dos temas icnicos en el encuentro final El Santuario de Enlace de Fuego y de Gwyn Seor de la Ceniza y jefe final del primer Dark Souls cuya famosa pieza puede ser escuchada durante la segunda fase de esta batalla \n",
      "\n",
      "A pesar de la sensacin de cierre y que el propio Miyazaki declar que inicialmente no habra ms secuelas durante la presentacin oficial en la E de  este aadi que el juego no sera el ltimo de la serie En palabras del propio director esto significaba un punto de inflexin tanto para la franquicia como para el estudio ya que fue el ltimo proyecto de FromSoftware antes de que se convirtiera en presidente de la empresa\n",
      "\n",
      "Dark Souls III recibi crticas generalmente favorables segn el agregador de reseas Metacritic con elogios dirigidos a los aspectos visuales del juego y sus mecnicas de combate que recordaron a los crticos su similitud con el ritmo ms rpido de Bloodborne Para el sitio web Opencritic recibi la calificacin Mighty con un  de crticas recomendadas\n",
      "\n",
      "Carlos Leiva de Vandal le otorg un  y destac la espectacularidad de los encuentros finales siendo ms giles y heroicos que sus antecesores y su refinado apartado artstico y musical considerando su banda sonora como la mejor de toda la serie souls Juan Garca de IGN Spain profundiza en su sistema de combate y resalta la naturalidad de la integracin de la rapidez del sistema de combate de Bloodborne con la pausalidad y estrategia de Dark Souls II El equipo de D Juegos le otorg de Imprescindible al considerar Dark Souls III como el juego ms trabajado e importante de lo que va de ao que marcar un antes y un despus en la historia de un tipo de videojuego Categora con el que coincide Salva Fernndez de Meristation al sobresaltar la maginifcencia del ttulo con un  por y considerarlo un coloso de su generacin que seguir siendo comentado y recordado en el futuro\n",
      "\n",
      "Sin embargo a pesar de la unanimidad de su excelencia la ltima entrega de la saga recibi crticas negativas dirigida a problemas con el rendimiento tcnico del juego y el diseo lineal del mapa A tenor de este ltimo el analista Philip Kollar de Polygon calific el juego con un  de  expresando de manera directa su decepcin por la falta de sorpresas y la naturaleza arbitraria del diseo del juego escribiendo que en muchos aspectos importantes el diseo del mundo el ritmo la tecnologa que lo impulsa Dark Souls III no alcanza el objetivo Esta linealidad que muchos crticos sealan como un mal menor es a ojos de Fu Olmos del portal Anait una decisin de diseo que bien utilizado se comunica con el jugador sin dar indicaciones explcitas En Dark Souls III esto se hace mediante la integracin de la curva de dificultad y de los elementos del entorno como emboscadas enemigos poderosos cadas altas ventanas abiertas y hogueras colocadas estratgicamente que incitan al jugador a explorar y resolver el rompecabezas de cmo alcanzarlas\n",
      "\n",
      "Referencias\n",
      " Dark Souls  Interview It Wouldnt Be Right to Continue Creating Souls en ingls estadounidense  de noviembre de  Consultado el  de julio de \n",
      " Fecha de lanzamiento de Dark Souls III para PS Consultado el  de julio de \n",
      " Dark Souls  and the Problem with Regional Release Dates Inverse en ingls  de abril de  Consultado el  de julio de \n",
      " Porter Matt  de abril de  Dark Souls  Is Bandai Namcos FastestSelling Game Ever IGN en ingls Consultado el  de julio de \n",
      " Peckham Matt  de abril de  Dark Souls III Is the Fastest Selling Souls Game Yet TIME en ingls Consultado el  de julio de \n",
      " Rajala Arttu  de mayo de  Dark Souls III sells  million series at  million Gamereactor UK en ingls Consultado el  de julio de \n",
      " Dark Souls  Has Sold Over  Million Copies Pushing Series Total To New Milestone GameSpot en ingls estadounidense Consultado el  de julio de \n",
      " Dark Souls  DLC Released Early on Xbox One by Accident UPDATE GameSpot en ingls estadounidense Consultado el  de julio de \n",
      " Dark Souls III The Ringed City DLC launches March  Gematsu en ingls estadounidense  de enero de  Consultado el  de julio de \n",
      " Briesenick Stefan  de abril de  Dark Souls  The Fire Fades Edition llega la edicin GOTY Gamereactor Espaa Consultado el  de julio de \n",
      " Contributor Brenna Hillier  de junio de  Dark Souls  has been in the works for two years VG en ingls Consultado el  de julio de \n",
      " Dark Souls  is being developed by a different team to Bloodborne  Dark Souls  for PS News webarchiveorg  de junio de  Consultado el  de julio de \n",
      " Bloodbornes Limitation Made Miyazaki Return to Dark Souls  webarchiveorg  de septiembre de  Consultado el  de julio de \n",
      " McWhertor Michael  de agosto de  Hidetaka Miyazaki on Dark Souls s changes to bosses magic combat and more Polygon en ingls estadounidense Consultado el  de julio de \n",
      " Dark Souls  everything is designed to kill you  VG webarchiveorg  de agosto de  Consultado el  de julio de \n",
      " Dark Souls  Miyazaki explains the difference between difficult and unreasonable  VG webarchiveorg  de diciembre de  Consultado el  de julio de \n",
      " VGMO Video Game Music Online  Dark Souls III composers and soundtrack detailed webarchiveorg  de noviembre de  Consultado el  de julio de \n",
      " Saltar a a b Tr Bryant The Crackle of the First Flame The Sounds and Musical Techniques of Dark Souls Consultado el  de julio de \n",
      " Freitas Joana  From epic fail to epic music music silence and failure on Dark Souls  Journal of Sound Silence Image and Technology en ingls   ISSN X Consultado el  de julio de \n",
      " Miyazaki Dark Souls Shouldnt Have Multiple Sequels  IGN webarchiveorg  de abril de  Consultado el  de julio de \n",
      " Scammell David  de junio de  Dark Souls  isnt the last game in the series Miyazaki clarifies VideoGamer en ingls estadounidense Consultado el  de julio de \n",
      " Editor Rachel Weber Senior  de mayo de  Hidetaka Miyazaki named From Software president GamesIndustrybiz en ingls Consultado el  de julio de \n",
      " Dark Souls III wwwmetacriticcom en ingls Consultado el  de julio de \n",
      " Dark Souls III Reviews OpenCritic en ingls  de abril de  Consultado el  de julio de \n",
      " Anlisis Dark Souls III  PS Xbox One PC Vandal  de abril de  Consultado el  de julio de \n",
      " las  Juan Garca Actualizado el  de abril de  a las  Publicado el  de abril de  a  de abril de  Dark Souls  Anlisis para PS Xbox One y PC IGN Espaa Consultado el  de julio de \n",
      " de DJuegos El equipo  de abril de  Anlisis de Dark Souls III El ltimo gran esfuerzo del alma DJuegos Consultado el  de julio de \n",
      " Fernndez Salva  de julio de  Anlisis de Dark Souls  Meristation Consultado el  de julio de \n",
      " Dark Souls  review  Polygon webarchiveorg  de julio de  Consultado el  de julio de \n",
      " Olmos Fu  de mayo de  Dark Souls III Arqueologa de la ruina AnaitGames Consultado el  de julio de \n"
     ]
    }
   ],
   "source": [
    "import re #Busca dentro y cambia texto usando patrones formales. Doc: (https://rico-schmidt.name/pymotw-3/re/index.html)\n",
    "\n",
    "def limpiar_texto(texto):\n",
    "    # Esta parte va a eliminar caracteres que no sean letras ni espacios\n",
    "    texto_limpio = re.sub(r'[^a-zA-Z\\s]', '', texto)\n",
    "    return texto_limpio\n",
    "\n",
    "#Imprimir\n",
    "texto_limpio = limpiar_texto(texto)\n",
    "print(texto_limpio)  "
   ]
  },
  {
   "cell_type": "code",
   "execution_count": 3,
   "metadata": {},
   "outputs": [
    {
     "name": "stdout",
     "output_type": "stream",
     "text": [
      "Dark Souls III de Wikipedia la Enciclopedia Libre\n",
      "\n",
      "Dark Souls III III Dku Souru Sur es un videojuego de rol de accin desarrollado por FromSoftware y publicado por Bandai Namco Entertainment para PlayS\n"
     ]
    }
   ],
   "source": [
    "texto_limpio = limpiar_texto(texto)\n",
    "print(texto_limpio[:200])  #Imprime las primeras 200 letras"
   ]
  },
  {
   "cell_type": "markdown",
   "metadata": {},
   "source": [
    "Convertir todas las palabras a minúsculas"
   ]
  },
  {
   "cell_type": "code",
   "execution_count": null,
   "metadata": {},
   "outputs": [
    {
     "name": "stdout",
     "output_type": "stream",
     "text": [
      "dark souls iii de wikipedia la enciclopedia libre\n",
      "\n",
      "dark souls iii iii dku souru sur es un videojuego de rol de accin desarrollado por fromsoftware y publicado por bandai namco entertainment para playstation  xbox one y microsoft windows es la tercera y ltima entrega en la saga souls lanzndose en japn el  de marzo de  y de manera mundial en abril del mismo ao\n",
      "\n",
      "dark souls iii fue un xito tanto de crtica como de ventas con la crtica nombrando a este como un digno y adecuado final para la saga fue el juego de bandai namco que ms rpido vendi en su historia alcanzando ms de tres millones de copias en todo el mundo en menos de dos meses tras su lanzamientoy ms de  millones en \n",
      "\n",
      "en total el juego ha recibido  expansiones de pago dlc ashes of ariandel lanzado el  de octubre de y the ringed city estrenado el  de marzo de con el lanzamiento de esta ltima expansin se prepar una edicin especial goty que aun tanto el juego base como los dos contenidos descargables y que recibi el nombre de dark souls iii the fire fades edition estando disponible en abril de \n",
      "\n",
      "jugabilidad\n",
      "el juego presenta mecnicas similares a dark souls y dark souls ii aunque con algunas diferencias las animaciones del personaje son casi idnticas a las del primer ttulo pero ocurren a mayor rapidez al tomar los frascos de estus el personaje se puede mover lentamente en ttulos anteriores el personaje no poda la patada vuelve y la bsqueda de fragmentos de estus polvo de hueso anillos armas armaduras escudos pergaminos mgicos tomos de piromancias milagros se mantiene y la barra de magia vuelve pc\n",
      "\n",
      "el sistema de armadura y estabilidad estadstica que permite resistir golpes sin perder el balance ha sido completamente cambiado en comparacin de los otros  juegos reduciendo sus capacidades defensivas y volvindola ms efectiva al tomar roles ofensivos en peleas lo que resulta en una jugabilidad similar a bloodborne\n",
      "\n",
      "el ttulo cuenta con un modo multijugador cooperativo donde el jugador es ayudado por otras personas mediante seales de invocacin para vencer jefes enemigos otros jugadores o zonas muy difciles aunque habr un pequeo aumento de dificultad por el aumento de jugadores\n",
      "\n",
      "tambin existe un modo pvp donde tradicionalmente un jugador podra invadir a otro para intentar matarlo o bien se pueden usar seales de invocacin el modo pvp queda deshabilitado durante batallas de jefes\n",
      "\n",
      "historia\n",
      "argumento\n",
      "dark souls  es el final de la saga y presenta un mundo el reino de lothric al borde del apocalipsis por culpa de la maldicin de los no muertos y la razn por la que el mundo an no se ha sumido en la oscuridad totalmente es el sacrificio que muchos hroes e incluso dioses hicieron al reavivar la llama original la cual se encarga de mantener la era del fuego dejando que esta consumiera sus respectivas almas y cuerpos\n",
      "\n",
      "el protagonista el personaje al que se da vida en este ttulo es uno de los que llaman latentes estas personas son humanos que consiguieron llegar al horno de la primera llama y trataron de enlazarla pero fueron consumidos y hechos ceniza sin conseguir su objetivo estos humanos son despertados cuando los seores de la ceniza aquellos que s que fueron suficientemente poderosos como para enlazar la primera llama son despertados pero no cumplen su deber quedarse en sus tronos en el santuario de enlace del fuego hasta que se les vuelva a sacrificar para enlazar la primera llama es decir cuando los seores de la ceniza no quieren volver a prolongar la era de los dioses la era del fuego y abandonan sus tronos los latentes deben ir a por ellos para matarlos y devolver sus cenizas a los tronos y el latente que lo consiga deber como ltima parte del plan inmolarse l mismo convirtindose de esta forma en un seor de la ceniza\n",
      "\n",
      "en el final del juego cuando se renan las cenizas de todos los seores de la ceniza hay que realizar el ritual de enlace del fuego con la ayuda de la guardiana del fuego e ir al horno de la primera llama all el jugador ha de enfrentarse con el alma de ceniza y cuando sea derrotado se tendr la ms importante de todas las decisiones enlazar la primera llama extendiendo as la era del fuego dejar que se apague comenzando as la era de la oscuridad robar el poder de la primera llama comenzando la era de la oscuridad pero conservando en el personaje elegido el poder de la primera llama o robar el poder de la primera llama pero en vez de sencillamente quedrselo se puede convertir en el seor de la era de la oscuridad\n",
      "\n",
      "personajes\n",
      "seores de la ceniza\n",
      "estos seores de la ceniza son cinco pese a que se supone que muchos ms humanos y dioses se han inmolado a lo largo de la historia\n",
      "\n",
      "vigilantes del abismo el primer seor de la ceniza con el que se enfrenta el personaje elegido es un colectivo estos caballeros son el legado de artorias de dark souls i su misin antes de ser seores de la ceniza era la de combatir el abismo si algn ciudadano vea esa caracterstica armadura de los vigilantes en su hogar no eran buenas noticias pues el abismo se encontraba all y los vigilantes acabaran con l o al menos lo frenaran a toda costa inundando o sepultando el lugar si era necesario\n",
      "\n",
      "aldrich el segundo seor de la ceniza al que hay que enfrentarse es aldrich santo de la oscuridad este terrible ser comenz siendo un simple clrigo de la catedral de la oscuridad cathedral of the deep significa de hecho catedral de la profundidad pero se tradujo as pero desarroll un enfermizo gusto por la carne humana llegando a devorar incluso a un dios gwyndolin que estaba en anor londo as pues tal y como nos dice hawkwood el desertor a este canbal le hicieron seor de la ceniza por poder y no por virtud\n",
      "\n",
      "yhorm el tercer seor de la ceniza es yhorm el gigante seor de la capital profanada este era un descendiente de un conquistador esto es una referencia a la guerra entre drangleic y los gigantes explicada en dark souls ii que amaba a su pueblo pero este no lo corresponda debido a esta situacin yhorm decidi hacer dos cosas la primera fue entregar dos espadas llamadas soberano de las tormentas una a su pueblo y la otra a su gran amigo sigward de los caballeros de catarina hizo estos regalos porque estas espadas son su punto dbil la otra cosa que hizo fue intentar acabar con la llama profanada una peligrosa llama que algunos creen que es una sustitucin del lecho del caos de dark souls i para cumplir esta tarea enlaz la primera llama sin embargo esto no fue suficiente y la llama profanada cobr tal fuerza que arras la capital profanada no quem sino carne humana slo unos pocos sobrevivieron y estos fueron ms tarde los carceleros de la mazmorra de irithyll\n",
      "\n",
      "lorian y lothric el ltimo seor de la ceniza es el prncipe lothric custodiado por su hermano lorian hay bastante polmica alrededor de este jefe final y es que se nos da a entender en varios objetos que lorian y lothric rechazaron su destino esto hara parecer que no enlazaron la primera llama sin embargo lorian est envuelto en llamas como los latentes en estado ascua en su segunda fase esto hara indicar que s que enlazaron la llama con lo que respecta al lore de estos personajes lorian es el mayor de los hermanos antes de que naciera lothric serva como caballero para el reino lleg incluso a derrotar al prncipe demonio y por ello su espada est envuelta por llamas permanentemente cuando naci su hermano pequeo este result ser deforme y enfermizo estos defectos son explicados porque sus padres el rey oceiros y la reina no se sabe quin es aunque la hiptesis de que es gwynevere es muy slida recurrieron a medios infames para conseguir al heredero perfecto para enlazar la primera llama lorian decidi compartir la maldicin de su hermano de tal forma que sus almas estn conectadas y lorian por compartir esta carga se qued mudo e invlido estos prncipes no queran enlazar la primera llama porque el primer erudito que era su tutor particular les convenci de que el legado de los seores de la ceniza el enlace del fuego no era una buena opcin la identidad de este primer erudito se desconoce aunque lo ms probable es que sea el pontfice sulyvahn un personaje clave en el lore de dark souls \n",
      "\n",
      "ludleth por ltimo est ludleth el exiliado este es el nico seor de la ceniza que no ha abandonado su trono este hombre era un rey que descuid sus tierras para dedicarse al estudio de la transposicin de almas un arte prohibido en su reino courland si se derrota al gran rbol corrompido se obtendr el horno de transposicin al entregrselo a ludleth ste ayudar al jugador al transformar las almas de los jefes derrotados en armas anillos y magias\n",
      "\n",
      "expansiones\n",
      "ashes of ariandel\n",
      "esta primera expansin introduce una nueva rea el mundo pintado de ariandel al llegar a la catedral de la oscuridad en el juego base el latente se encuentra con gael un caballero errante que implora entrar en el mundo pintado y cumplir una profeca para traer  el fuego para ariandel los habitantes de este mundo piden al jugador que queme el mundo pintado segn la profeca o que lo deje pudrirse lentamente una chica pintora le cuenta al latente sobre la promesa del to gael de encontrarle tintes para pintar un nuevo mundo la decisin del jugador de proceder provoca la frialdad en la hermana friede la guardiana autoproclamada del mundo cuando el jugador intenta acceder al santuario interior ella y el padre ariandel luchan contra ellos como jefes tras su derrota el mundo pintado es incendiado la pintora agradece al jugador por mostrarle la llama y espera a gael para el alma oscura que ella puede usar para pintar un nuevo mundo para la humanidad\n",
      "\n",
      "the ringed city\n",
      "en esta segunda expansin el latente comienza su viaje hacia un rea conocida como el montn de residuos donde reinos arruinados de diferentes eras se amontonan unos sobre otros mientras el mundo llega a su fin desde el montn de residuos despus de luchar a travs de las ruinas del castillo de lothric el latente se encuentra con el caballero amnsico lapp quien no puede recordar su pasado a lo largo de la zona mensajes de gael de la anterior expansin guan al jugador el latente atraviesa los restos de pico terrenal un rea encontrada en dark souls ii antes de enfrentarse al ltimo remanente de la raza de demonios el prncipe demonio en la base de un archtree que contiene las ruinas del santuario de enlace de fuego de dark souls victorioso el jugador viaja a la ciudad anillada una antigua ciudad de pigmeos los ancestros de la humanidad que ha cado en el abismo despus de derrotar al guardin de la iglesia de filianore el jugador despierta a filianore la hija del seor gwyn quien fue confiada a la ciudad anillada como un smbolo de paz entre gwyn y los seores pigmeos esto los transporta a un desierto arruinado de ceniza que puede interpretarse como un salto en el tiempo o el levantamiento de una ilusin creada por filianore all el latente se encuentra con un desaliado gael quien ha comenzado a matar a los seores pigmeos para obtener la sangre del alma oscura de los pigmeos para que la chica pintora en ariandel la use como tinta despus de consumir el alma oscura gael acaba corrompido por su poder y demanda la porcin del latente finalmente es derrotado permitiendo al jugador obtener su sangre que contiene el alma oscura dando la posibilidad de entregarselo a la pintora en ariandel quien la usa para pintar un nuevo mundo para la humanidad\n",
      "\n",
      "desarrollo\n",
      "el desarrollo de dark souls iii comenz en  en ese momento fromsoftware se encontraba produciendo varios ttulos por un lado el dlc de dark souls ii y por otro bloodborne el cual su etapa final de desarrollo se solap durante un ao entero con el comienzo de dark souls iii  a pesar de que ambos equipos trabajaron de forma independiente hidetaka miyazaki pudo dirigir ambos proyectos simultneamente gracias en parte a la delegacin que hizo sus subdirectores isamu okano y yui tanimura los directores de steel battalion heavy armor y dark souls ii respectivamente siendo principalmente okano quien se hizo cargo de la logstica de la produccin para facilitar la ejecucin de la visin de miyazaki\n",
      "\n",
      "las experiencias que tuvo durante la produccin de bloodborne le hicieron replantear nuevas mecnicas para esta entrega de la serie dark souls dando ms versatilidad al jugador a la hora de poder construir sus propias tcticas y equipos el diseo de niveles del juego se cre para convertirse en otro enemigo que el jugador debe enfrentar sin embargo al igual que los anteriores juegos narran sus historias dark souls iii desarrolla la trama con una fuerte ambigedad los jugadores pueden conocer la historia solo a travs de la conversacin con personajes no jugables npcs el diseo artstico y el texto descriptivo de los objetos debido a esto miyazaki afirma que no hay una historia oficial y nica su intencin al disear este juego fue no imponer su punto de vista afirmando que cualquier intento de descubrir y entender la trama y ese mundo es bienvenido\n",
      "\n",
      "la banda sonora original del juego fue escrita principalmente por yuka kitamura compositora de dark souls ii y bloodborne en colaboracin con motoi sakuraba compositor de dark souls que particip en el diseo de la msica adicional del juego adems tsukasa saitoh y nobuyoshi suzuki ambos encargados de componer algunas de las piezas que se escuchan durante los encuentros de los jefes de bloodborne  vuelven a repetir rol para musicalizar las batallas de dark souls iii la ambientacin musical bebe de partituras gticas muy en consonancia con el apartado artstico en donde destacan acordes masivos de metales y coros sombrios para crear una sensacin de abrumamiento durante los enfrentamientos principales debido a que el juego carece de acompaamiento sonoro durante la exploracin de los diversos mapas su aparicin en ciertos momentos lo identifican como un recurso que confiere una sensacin de importancia y solemnidad a cada combate contra un jefe otra de las caractersticas ms importantes de su aspecto sonoro es el uso del leitmotiv evocado precisamente en elementos muy puntuales del juego para reconocer personajes o lugares esto se acenta en esta tecera parte como herramienta narrativa para conexiar los juegos anteriores y concluir los ciclos eternos de la primera llama y de la triloga en s misma maximizado en la identificacin de dos temas icnicos en el encuentro final el santuario de enlace de fuego y de gwyn seor de la ceniza y jefe final del primer dark souls cuya famosa pieza puede ser escuchada durante la segunda fase de esta batalla \n",
      "\n",
      "a pesar de la sensacin de cierre y que el propio miyazaki declar que inicialmente no habra ms secuelas durante la presentacin oficial en la e de  este aadi que el juego no sera el ltimo de la serie en palabras del propio director esto significaba un punto de inflexin tanto para la franquicia como para el estudio ya que fue el ltimo proyecto de fromsoftware antes de que se convirtiera en presidente de la empresa\n",
      "\n",
      "dark souls iii recibi crticas generalmente favorables segn el agregador de reseas metacritic con elogios dirigidos a los aspectos visuales del juego y sus mecnicas de combate que recordaron a los crticos su similitud con el ritmo ms rpido de bloodborne para el sitio web opencritic recibi la calificacin mighty con un  de crticas recomendadas\n",
      "\n",
      "carlos leiva de vandal le otorg un  y destac la espectacularidad de los encuentros finales siendo ms giles y heroicos que sus antecesores y su refinado apartado artstico y musical considerando su banda sonora como la mejor de toda la serie souls juan garca de ign spain profundiza en su sistema de combate y resalta la naturalidad de la integracin de la rapidez del sistema de combate de bloodborne con la pausalidad y estrategia de dark souls ii el equipo de d juegos le otorg de imprescindible al considerar dark souls iii como el juego ms trabajado e importante de lo que va de ao que marcar un antes y un despus en la historia de un tipo de videojuego categora con el que coincide salva fernndez de meristation al sobresaltar la maginifcencia del ttulo con un  por y considerarlo un coloso de su generacin que seguir siendo comentado y recordado en el futuro\n",
      "\n",
      "sin embargo a pesar de la unanimidad de su excelencia la ltima entrega de la saga recibi crticas negativas dirigida a problemas con el rendimiento tcnico del juego y el diseo lineal del mapa a tenor de este ltimo el analista philip kollar de polygon calific el juego con un  de  expresando de manera directa su decepcin por la falta de sorpresas y la naturaleza arbitraria del diseo del juego escribiendo que en muchos aspectos importantes el diseo del mundo el ritmo la tecnologa que lo impulsa dark souls iii no alcanza el objetivo esta linealidad que muchos crticos sealan como un mal menor es a ojos de fu olmos del portal anait una decisin de diseo que bien utilizado se comunica con el jugador sin dar indicaciones explcitas en dark souls iii esto se hace mediante la integracin de la curva de dificultad y de los elementos del entorno como emboscadas enemigos poderosos cadas altas ventanas abiertas y hogueras colocadas estratgicamente que incitan al jugador a explorar y resolver el rompecabezas de cmo alcanzarlas\n",
      "\n",
      "referencias\n",
      " dark souls  interview it wouldnt be right to continue creating souls en ingls estadounidense  de noviembre de  consultado el  de julio de \n",
      " fecha de lanzamiento de dark souls iii para ps consultado el  de julio de \n",
      " dark souls  and the problem with regional release dates inverse en ingls  de abril de  consultado el  de julio de \n",
      " porter matt  de abril de  dark souls  is bandai namcos fastestselling game ever ign en ingls consultado el  de julio de \n",
      " peckham matt  de abril de  dark souls iii is the fastest selling souls game yet time en ingls consultado el  de julio de \n",
      " rajala arttu  de mayo de  dark souls iii sells  million series at  million gamereactor uk en ingls consultado el  de julio de \n",
      " dark souls  has sold over  million copies pushing series total to new milestone gamespot en ingls estadounidense consultado el  de julio de \n",
      " dark souls  dlc released early on xbox one by accident update gamespot en ingls estadounidense consultado el  de julio de \n",
      " dark souls iii the ringed city dlc launches march  gematsu en ingls estadounidense  de enero de  consultado el  de julio de \n",
      " briesenick stefan  de abril de  dark souls  the fire fades edition llega la edicin goty gamereactor espaa consultado el  de julio de \n",
      " contributor brenna hillier  de junio de  dark souls  has been in the works for two years vg en ingls consultado el  de julio de \n",
      " dark souls  is being developed by a different team to bloodborne  dark souls  for ps news webarchiveorg  de junio de  consultado el  de julio de \n",
      " bloodbornes limitation made miyazaki return to dark souls  webarchiveorg  de septiembre de  consultado el  de julio de \n",
      " mcwhertor michael  de agosto de  hidetaka miyazaki on dark souls s changes to bosses magic combat and more polygon en ingls estadounidense consultado el  de julio de \n",
      " dark souls  everything is designed to kill you  vg webarchiveorg  de agosto de  consultado el  de julio de \n",
      " dark souls  miyazaki explains the difference between difficult and unreasonable  vg webarchiveorg  de diciembre de  consultado el  de julio de \n",
      " vgmo video game music online  dark souls iii composers and soundtrack detailed webarchiveorg  de noviembre de  consultado el  de julio de \n",
      " saltar a a b tr bryant the crackle of the first flame the sounds and musical techniques of dark souls consultado el  de julio de \n",
      " freitas joana  from epic fail to epic music music silence and failure on dark souls  journal of sound silence image and technology en ingls   issn x consultado el  de julio de \n",
      " miyazaki dark souls shouldnt have multiple sequels  ign webarchiveorg  de abril de  consultado el  de julio de \n",
      " scammell david  de junio de  dark souls  isnt the last game in the series miyazaki clarifies videogamer en ingls estadounidense consultado el  de julio de \n",
      " editor rachel weber senior  de mayo de  hidetaka miyazaki named from software president gamesindustrybiz en ingls consultado el  de julio de \n",
      " dark souls iii wwwmetacriticcom en ingls consultado el  de julio de \n",
      " dark souls iii reviews opencritic en ingls  de abril de  consultado el  de julio de \n",
      " anlisis dark souls iii  ps xbox one pc vandal  de abril de  consultado el  de julio de \n",
      " las  juan garca actualizado el  de abril de  a las  publicado el  de abril de  a  de abril de  dark souls  anlisis para ps xbox one y pc ign espaa consultado el  de julio de \n",
      " de djuegos el equipo  de abril de  anlisis de dark souls iii el ltimo gran esfuerzo del alma djuegos consultado el  de julio de \n",
      " fernndez salva  de julio de  anlisis de dark souls  meristation consultado el  de julio de \n",
      " dark souls  review  polygon webarchiveorg  de julio de  consultado el  de julio de \n",
      " olmos fu  de mayo de  dark souls iii arqueologa de la ruina anaitgames consultado el  de julio de \n"
     ]
    }
   ],
   "source": [
    "def convertir_minusculas(texto):\n",
    "    return texto.lower()\n",
    "\n",
    "#Imprimir\n",
    "texto_minusculas = convertir_minusculas(texto_limpio)\n",
    "print(texto_minusculas)  # Muestra los caracteres del texto en minúsculas"
   ]
  },
  {
   "cell_type": "markdown",
   "metadata": {},
   "source": [
    "Almacenar las palabras en una lista"
   ]
  },
  {
   "cell_type": "code",
   "execution_count": null,
   "metadata": {},
   "outputs": [
    {
     "name": "stdout",
     "output_type": "stream",
     "text": [
      "['dark', 'souls', 'iii', 'de', 'wikipedia', 'la', 'enciclopedia', 'libre', 'dark', 'souls', 'iii', 'iii', 'dku', 'souru', 'sur', 'es', 'un', 'videojuego', 'de', 'rol']\n"
     ]
    }
   ],
   "source": [
    "def obtener_palabras(texto):\n",
    "    # Divide el texto en palabras usando el espacio como delimitador\n",
    "    palabras = texto.split()\n",
    "    return palabras\n",
    "\n",
    "#Imprimir\n",
    "palabras = obtener_palabras(texto_minusculas)\n",
    "print(palabras[:20])  # Muestra las primeras 20 palabras\n"
   ]
  },
  {
   "cell_type": "markdown",
   "metadata": {},
   "source": [
    "Crear un diccionario para contar la frecuencia de cada palabra"
   ]
  },
  {
   "cell_type": "code",
   "execution_count": null,
   "metadata": {},
   "outputs": [
    {
     "name": "stdout",
     "output_type": "stream",
     "text": [
      "{'dark': 58, 'souls': 62, 'iii': 23, 'de': 346, 'wikipedia': 1, 'la': 151, 'enciclopedia': 1, 'libre': 1, 'dku': 1, 'souru': 1}\n"
     ]
    }
   ],
   "source": [
    "from collections import defaultdict\n",
    "\n",
    "def contar_palabras(palabras):\n",
    "    contador = defaultdict(int)\n",
    "    for palabra in palabras:\n",
    "        contador[palabra] += 1\n",
    "    return contador\n",
    "\n",
    "#Imprimir\n",
    "contador_palabras = contar_palabras(palabras)\n",
    "print(dict(list(contador_palabras.items())[:10]))  # Muestra las primeras 10 palabras y sus frecuencias\n"
   ]
  },
  {
   "cell_type": "markdown",
   "metadata": {},
   "source": [
    "Función recursiva para encontrar la palabra más frecuente"
   ]
  },
  {
   "cell_type": "code",
   "execution_count": null,
   "metadata": {},
   "outputs": [
    {
     "name": "stdout",
     "output_type": "stream",
     "text": [
      "La palabra más frecuente es 'de' con una frecuencia de 346\n"
     ]
    }
   ],
   "source": [
    "def encontrar_palabra_mas_frecuente(contador, palabras, indice=0, max_palabra='', max_frecuencia=0):\n",
    "    if indice >= len(palabras):\n",
    "        return max_palabra, max_frecuencia\n",
    "    palabra = palabras[indice]\n",
    "    frecuencia = contador[palabra]\n",
    "    if frecuencia > max_frecuencia:\n",
    "        max_palabra, max_frecuencia = palabra, frecuencia\n",
    "    return encontrar_palabra_mas_frecuente(contador, palabras, indice + 1, max_palabra, max_frecuencia)\n",
    "\n",
    "#Imprimir\n",
    "palabra_mas_frecuente, frecuencia = encontrar_palabra_mas_frecuente(contador_palabras, list(contador_palabras.keys()))\n",
    "print(f\"La palabra más frecuente es '{palabra_mas_frecuente}' con una frecuencia de {frecuencia}\")\n"
   ]
  },
  {
   "cell_type": "markdown",
   "metadata": {},
   "source": [
    "Conjunto con todas las palabras únicas y contar su número total"
   ]
  },
  {
   "cell_type": "code",
   "execution_count": null,
   "metadata": {},
   "outputs": [
    {
     "name": "stdout",
     "output_type": "stream",
     "text": [
      "Número total de palabras únicas: 1196\n"
     ]
    }
   ],
   "source": [
    "palabras_unicas = set(palabras)\n",
    "numero_palabras_unicas = len(palabras_unicas)\n",
    "print(f\"Número total de palabras únicas: {numero_palabras_unicas}\") #Imprimir\n"
   ]
  },
  {
   "cell_type": "markdown",
   "metadata": {},
   "source": [
    "Mostrar todas las palabras que se repiten más de 3 veces"
   ]
  },
  {
   "cell_type": "code",
   "execution_count": null,
   "metadata": {},
   "outputs": [
    {
     "name": "stdout",
     "output_type": "stream",
     "text": [
      "Palabras que se repiten más de 3 veces:\n",
      "dark: 58\n",
      "souls: 62\n",
      "iii: 23\n",
      "de: 346\n",
      "la: 151\n",
      "es: 25\n",
      "un: 43\n",
      "por: 23\n",
      "y: 75\n",
      "para: 34\n",
      "xbox: 4\n",
      "one: 4\n",
      "ltima: 4\n",
      "en: 79\n",
      "saga: 4\n",
      "el: 154\n",
      "abril: 13\n",
      "del: 42\n",
      "fue: 9\n",
      "como: 20\n",
      "con: 27\n",
      "a: 58\n",
      "este: 15\n",
      "final: 7\n",
      "juego: 18\n",
      "que: 78\n",
      "ms: 14\n",
      "su: 37\n",
      "historia: 6\n",
      "mundo: 15\n",
      "dos: 5\n",
      "ha: 7\n",
      "dlc: 4\n",
      "of: 6\n",
      "ariandel: 7\n",
      "the: 15\n",
      "esta: 12\n",
      "expansin: 4\n",
      "se: 36\n",
      "una: 17\n",
      "los: 41\n",
      "recibi: 4\n",
      "ii: 7\n",
      "aunque: 4\n",
      "las: 14\n",
      "personaje: 7\n",
      "son: 8\n",
      "primer: 5\n",
      "ttulo: 4\n",
      "pero: 8\n",
      "al: 32\n",
      "puede: 6\n",
      "no: 22\n",
      "sin: 7\n",
      "juegos: 4\n",
      "sus: 13\n",
      "lo: 12\n",
      "bloodborne: 8\n",
      "donde: 4\n",
      "jugador: 16\n",
      "jefes: 5\n",
      "o: 8\n",
      "muy: 4\n",
      "durante: 8\n",
      "lothric: 6\n",
      "oscuridad: 7\n",
      "muchos: 4\n",
      "e: 5\n",
      "llama: 19\n",
      "era: 13\n",
      "fuego: 10\n",
      "almas: 4\n",
      "primera: 15\n",
      "ceniza: 18\n",
      "estos: 8\n",
      "cuando: 6\n",
      "seores: 9\n",
      "s: 4\n",
      "enlazar: 5\n",
      "santuario: 4\n",
      "enlace: 5\n",
      "latente: 8\n",
      "seor: 11\n",
      "hay: 4\n",
      "alma: 6\n",
      "as: 4\n",
      "poder: 6\n",
      "personajes: 4\n",
      "abismo: 4\n",
      "antes: 5\n",
      "ser: 4\n",
      "siendo: 4\n",
      "le: 5\n",
      "profanada: 4\n",
      "esto: 9\n",
      "hizo: 4\n",
      "embargo: 4\n",
      "lorian: 7\n",
      "ltimo: 7\n",
      "pintado: 4\n",
      "gael: 6\n",
      "pintora: 4\n",
      "to: 8\n",
      "oscura: 4\n",
      "despus: 4\n",
      "quien: 5\n",
      "pigmeos: 4\n",
      "miyazaki: 10\n",
      "diseo: 7\n",
      "combate: 4\n",
      "ign: 4\n",
      "ingls: 15\n",
      "estadounidense: 6\n",
      "consultado: 30\n",
      "julio: 32\n",
      "ps: 4\n",
      "and: 7\n",
      "is: 4\n",
      "game: 4\n",
      "webarchiveorg: 7\n",
      "anlisis: 4\n"
     ]
    }
   ],
   "source": [
    "palabras_frecuentes = {palabra: frecuencia for palabra, frecuencia in contador_palabras.items() if frecuencia > 3}\n",
    "print(\"Palabras que se repiten más de 3 veces:\")\n",
    "for palabra, frecuencia in palabras_frecuentes.items():\n",
    "    print(f\"{palabra}: {frecuencia}\") #Imprimir\n"
   ]
  }
 ],
 "metadata": {
  "kernelspec": {
   "display_name": "Python 3",
   "language": "python",
   "name": "python3"
  },
  "language_info": {
   "codemirror_mode": {
    "name": "ipython",
    "version": 3
   },
   "file_extension": ".py",
   "mimetype": "text/x-python",
   "name": "python",
   "nbconvert_exporter": "python",
   "pygments_lexer": "ipython3",
   "version": "3.12.5"
  }
 },
 "nbformat": 4,
 "nbformat_minor": 2
}
