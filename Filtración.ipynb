{
 "cells": [
  {
   "cell_type": "markdown",
   "metadata": {
    "id": "GtK0GxD8KmM0"
   },
   "source": [
    "##**Tarea Fallida**"
   ]
  },
  {
   "cell_type": "code",
   "execution_count": 1,
   "metadata": {},
   "outputs": [
    {
     "name": "stdout",
     "output_type": "stream",
     "text": [
      "Requirement already satisfied: SQLModel in c:\\users\\cesar\\appdata\\local\\programs\\python\\python312\\lib\\site-packages (0.0.22)\n",
      "Requirement already satisfied: SQLAlchemy<2.1.0,>=2.0.14 in c:\\users\\cesar\\appdata\\local\\programs\\python\\python312\\lib\\site-packages (from SQLModel) (2.0.36)\n",
      "Requirement already satisfied: pydantic<3.0.0,>=1.10.13 in c:\\users\\cesar\\appdata\\local\\programs\\python\\python312\\lib\\site-packages (from SQLModel) (2.9.2)\n",
      "Requirement already satisfied: annotated-types>=0.6.0 in c:\\users\\cesar\\appdata\\local\\programs\\python\\python312\\lib\\site-packages (from pydantic<3.0.0,>=1.10.13->SQLModel) (0.7.0)\n",
      "Requirement already satisfied: pydantic-core==2.23.4 in c:\\users\\cesar\\appdata\\local\\programs\\python\\python312\\lib\\site-packages (from pydantic<3.0.0,>=1.10.13->SQLModel) (2.23.4)\n",
      "Requirement already satisfied: typing-extensions>=4.6.1 in c:\\users\\cesar\\appdata\\local\\programs\\python\\python312\\lib\\site-packages (from pydantic<3.0.0,>=1.10.13->SQLModel) (4.12.2)\n",
      "Requirement already satisfied: greenlet!=0.4.17 in c:\\users\\cesar\\appdata\\local\\programs\\python\\python312\\lib\\site-packages (from SQLAlchemy<2.1.0,>=2.0.14->SQLModel) (3.1.1)\n"
     ]
    },
    {
     "name": "stderr",
     "output_type": "stream",
     "text": [
      "\n",
      "[notice] A new release of pip is available: 24.2 -> 24.3.1\n",
      "[notice] To update, run: python.exe -m pip install --upgrade pip\n"
     ]
    }
   ],
   "source": [
    "!pip install SQLModel"
   ]
  },
  {
   "cell_type": "code",
   "execution_count": 1,
   "metadata": {
    "id": "_iMknsT2KHhB"
   },
   "outputs": [],
   "source": [
    "from sqlmodel import Field, SQLModel, Relationship, Session, create_engine, select\n",
    "from typing import Optional, List"
   ]
  },
  {
   "cell_type": "code",
   "execution_count": 2,
   "metadata": {
    "colab": {
     "base_uri": "https://localhost:8080/",
     "height": 428
    },
    "id": "L7FluVCVMYl2",
    "outputId": "998de2e7-2fb9-40b1-ca90-efd3a2c99d55"
   },
   "outputs": [
    {
     "name": "stdout",
     "output_type": "stream",
     "text": [
      "2024-10-30 18:42:52,481 INFO sqlalchemy.engine.Engine BEGIN (implicit)\n",
      "2024-10-30 18:42:52,485 INFO sqlalchemy.engine.Engine PRAGMA main.table_info(\"novataglink\")\n",
      "2024-10-30 18:42:52,496 INFO sqlalchemy.engine.Engine [raw sql] ()\n",
      "2024-10-30 18:42:52,502 INFO sqlalchemy.engine.Engine PRAGMA temp.table_info(\"novataglink\")\n",
      "2024-10-30 18:42:52,519 INFO sqlalchemy.engine.Engine [raw sql] ()\n",
      "2024-10-30 18:42:52,525 INFO sqlalchemy.engine.Engine PRAGMA main.table_info(\"nova\")\n",
      "2024-10-30 18:42:52,531 INFO sqlalchemy.engine.Engine [raw sql] ()\n",
      "2024-10-30 18:42:52,534 INFO sqlalchemy.engine.Engine PRAGMA temp.table_info(\"nova\")\n",
      "2024-10-30 18:42:52,543 INFO sqlalchemy.engine.Engine [raw sql] ()\n",
      "2024-10-30 18:42:52,546 INFO sqlalchemy.engine.Engine PRAGMA main.table_info(\"tag\")\n",
      "2024-10-30 18:42:52,558 INFO sqlalchemy.engine.Engine [raw sql] ()\n",
      "2024-10-30 18:42:52,563 INFO sqlalchemy.engine.Engine PRAGMA temp.table_info(\"tag\")\n",
      "2024-10-30 18:42:52,566 INFO sqlalchemy.engine.Engine [raw sql] ()\n",
      "2024-10-30 18:42:52,572 INFO sqlalchemy.engine.Engine \n",
      "CREATE TABLE nova (\n",
      "\tid INTEGER NOT NULL, \n",
      "\tdato VARCHAR NOT NULL, \n",
      "\tvalor_1 VARCHAR NOT NULL, \n",
      "\tvalor_2 FLOAT NOT NULL, \n",
      "\tvalores_opcionales INTEGER, \n",
      "\tPRIMARY KEY (id)\n",
      ")\n",
      "\n",
      "\n",
      "2024-10-30 18:42:52,579 INFO sqlalchemy.engine.Engine [no key 0.00680s] ()\n",
      "2024-10-30 18:42:52,620 INFO sqlalchemy.engine.Engine \n",
      "CREATE TABLE tag (\n",
      "\tid INTEGER NOT NULL, \n",
      "\tname VARCHAR NOT NULL, \n",
      "\tPRIMARY KEY (id)\n",
      ")\n",
      "\n",
      "\n",
      "2024-10-30 18:42:52,626 INFO sqlalchemy.engine.Engine [no key 0.00660s] ()\n",
      "2024-10-30 18:42:52,660 INFO sqlalchemy.engine.Engine \n",
      "CREATE TABLE novataglink (\n",
      "\tnova_id INTEGER NOT NULL, \n",
      "\ttag_id INTEGER NOT NULL, \n",
      "\tPRIMARY KEY (nova_id, tag_id), \n",
      "\tFOREIGN KEY(nova_id) REFERENCES nova (id), \n",
      "\tFOREIGN KEY(tag_id) REFERENCES tag (id)\n",
      ")\n",
      "\n",
      "\n",
      "2024-10-30 18:42:52,663 INFO sqlalchemy.engine.Engine [no key 0.00263s] ()\n",
      "2024-10-30 18:42:52,692 INFO sqlalchemy.engine.Engine COMMIT\n"
     ]
    }
   ],
   "source": [
    "# Tabla de asociación many-to-many\n",
    "class NovaTagLink(SQLModel, table=True):\n",
    "    nova_id: Optional[int] = Field(default=None, foreign_key=\"nova.id\", primary_key=True)\n",
    "    tag_id: Optional[int] = Field(default=None, foreign_key=\"tag.id\", primary_key=True)\n",
    "\n",
    "#Tabla Principal\n",
    "class Nova(SQLModel, table=True):\n",
    "  id: int | None = Field(default=None, primary_key=True)\n",
    "  dato: str\n",
    "  valor_1: str\n",
    "  valor_2: float\n",
    "  valores_opcionales: int | None = None\n",
    "\n",
    "  #Se supone que la asociación viene dada de esta manera ---- (duda) ==>**\n",
    "  tags: List[\"Tag\"] = Relationship(back_populates=\"novas\", link_model=NovaTagLink)\n",
    "\n",
    "# Segunda tabla con la que voy a aplicar la operación many-to-many\n",
    "class Tag(SQLModel, table=True):\n",
    "    id: Optional[int] = Field(default=None, primary_key=True)\n",
    "    name: str\n",
    "\n",
    "    #Lo mismo que en la parte de ** (Duda)\n",
    "    novas: List[Nova] = Relationship(back_populates=\"tags\", link_model=NovaTagLink)\n",
    "\n",
    "sqllite_file_name = \"databaso.db\" #Configuracion de la base de datos\n",
    "engine = create_engine(f\"sqlite:///{sqllite_file_name}\", echo=True) #Fin de la configuración de la base\n",
    "\n",
    "def create_db_and_tables():\n",
    "  SQLModel.metadata.create_all(engine)\n",
    "\n",
    "if __name__ == \"__main__\":\n",
    "  create_db_and_tables()"
   ]
  },
  {
   "cell_type": "code",
   "execution_count": 7,
   "metadata": {},
   "outputs": [],
   "source": [
    "import os\n",
    "def load_data_from_file(file_path):\n",
    "    if not os.path.isfile(file_path):\n",
    "        print(f\"Error: El archivo {file_path} no existe.\")\n",
    "        return\n",
    "\n",
    "load_data_from_file(r'C:\\Users\\cesar\\Downloads\\datos_aleatorios.txt')    "
   ]
  }
 ],
 "metadata": {
  "colab": {
   "provenance": []
  },
  "kernelspec": {
   "display_name": "Python 3",
   "name": "python3"
  },
  "language_info": {
   "codemirror_mode": {
    "name": "ipython",
    "version": 3
   },
   "file_extension": ".py",
   "mimetype": "text/x-python",
   "name": "python",
   "nbconvert_exporter": "python",
   "pygments_lexer": "ipython3",
   "version": "3.12.5"
  }
 },
 "nbformat": 4,
 "nbformat_minor": 0
}
