{
  "nbformat": 4,
  "nbformat_minor": 0,
  "metadata": {
    "colab": {
      "provenance": [],
      "authorship_tag": "ABX9TyNbOLOogzgu1Z9kTleKLx2v",
      "include_colab_link": true
    },
    "kernelspec": {
      "name": "python3",
      "display_name": "Python 3"
    },
    "language_info": {
      "name": "python"
    }
  },
  "cells": [
    {
      "cell_type": "markdown",
      "metadata": {
        "id": "view-in-github",
        "colab_type": "text"
      },
      "source": [
        "<a href=\"https://colab.research.google.com/github/cesar97af/2024-2-Programacion/blob/main/Filtraci%C3%B3n.ipynb\" target=\"_parent\"><img src=\"https://colab.research.google.com/assets/colab-badge.svg\" alt=\"Open In Colab\"/></a>"
      ]
    },
    {
      "cell_type": "markdown",
      "source": [
        "##**Tarea**"
      ],
      "metadata": {
        "id": "GtK0GxD8KmM0"
      }
    },
    {
      "cell_type": "code",
      "execution_count": 2,
      "metadata": {
        "colab": {
          "base_uri": "https://localhost:8080/"
        },
        "id": "SUwkh3oUFY63",
        "outputId": "eb18243f-c32d-4a19-f5da-27284e283431"
      },
      "outputs": [
        {
          "output_type": "stream",
          "name": "stdout",
          "text": [
            "Collecting SQLModel\n",
            "  Downloading sqlmodel-0.0.22-py3-none-any.whl.metadata (10 kB)\n",
            "Requirement already satisfied: SQLAlchemy<2.1.0,>=2.0.14 in /usr/local/lib/python3.10/dist-packages (from SQLModel) (2.0.36)\n",
            "Requirement already satisfied: pydantic<3.0.0,>=1.10.13 in /usr/local/lib/python3.10/dist-packages (from SQLModel) (2.9.2)\n",
            "Requirement already satisfied: annotated-types>=0.6.0 in /usr/local/lib/python3.10/dist-packages (from pydantic<3.0.0,>=1.10.13->SQLModel) (0.7.0)\n",
            "Requirement already satisfied: pydantic-core==2.23.4 in /usr/local/lib/python3.10/dist-packages (from pydantic<3.0.0,>=1.10.13->SQLModel) (2.23.4)\n",
            "Requirement already satisfied: typing-extensions>=4.6.1 in /usr/local/lib/python3.10/dist-packages (from pydantic<3.0.0,>=1.10.13->SQLModel) (4.12.2)\n",
            "Requirement already satisfied: greenlet!=0.4.17 in /usr/local/lib/python3.10/dist-packages (from SQLAlchemy<2.1.0,>=2.0.14->SQLModel) (3.1.1)\n",
            "Downloading sqlmodel-0.0.22-py3-none-any.whl (28 kB)\n",
            "Installing collected packages: SQLModel\n",
            "Successfully installed SQLModel-0.0.22\n"
          ]
        }
      ],
      "source": [
        "!pip install SQLModel #Se instala la Libreria para los fines pertinentes"
      ]
    },
    {
      "cell_type": "code",
      "source": [
        "from sqlmodel import Field, SQLModel, create_engine"
      ],
      "metadata": {
        "id": "_iMknsT2KHhB"
      },
      "execution_count": 3,
      "outputs": []
    },
    {
      "cell_type": "code",
      "source": [
        "class Nova(SQLModel, table=True):\n",
        "  id: int | None = Field(default=None, primary_key=True)\n",
        "  dato: str\n",
        "  valor_1: str\n",
        "  valor_2: str\n",
        "  valores_opcionales: int | None = None\n",
        "sqllite_file_name = \"database_de_prueba.db\"\n",
        "sqllite_url = f\"sqlite:///{sqllite_file_name}\"\n",
        "engine = create_engine(sqllite_url, echo=True)\n",
        "def create_db_and_tables():\n",
        "  SQLModel.metadata.create_all(engine)\n",
        "if __name__ == \"__main__\":\n",
        "  create_db_and_tables()\n",
        "print(engine)"
      ],
      "metadata": {
        "colab": {
          "base_uri": "https://localhost:8080/"
        },
        "id": "L7FluVCVMYl2",
        "outputId": "0a33c240-335d-4da1-cf5b-a1ba2a303b04"
      },
      "execution_count": 4,
      "outputs": [
        {
          "output_type": "stream",
          "name": "stdout",
          "text": [
            "2024-10-28 22:11:24,157 INFO sqlalchemy.engine.Engine BEGIN (implicit)\n"
          ]
        },
        {
          "output_type": "stream",
          "name": "stderr",
          "text": [
            "INFO:sqlalchemy.engine.Engine:BEGIN (implicit)\n"
          ]
        },
        {
          "output_type": "stream",
          "name": "stdout",
          "text": [
            "2024-10-28 22:11:24,169 INFO sqlalchemy.engine.Engine PRAGMA main.table_info(\"nova\")\n"
          ]
        },
        {
          "output_type": "stream",
          "name": "stderr",
          "text": [
            "INFO:sqlalchemy.engine.Engine:PRAGMA main.table_info(\"nova\")\n"
          ]
        },
        {
          "output_type": "stream",
          "name": "stdout",
          "text": [
            "2024-10-28 22:11:24,178 INFO sqlalchemy.engine.Engine [raw sql] ()\n"
          ]
        },
        {
          "output_type": "stream",
          "name": "stderr",
          "text": [
            "INFO:sqlalchemy.engine.Engine:[raw sql] ()\n"
          ]
        },
        {
          "output_type": "stream",
          "name": "stdout",
          "text": [
            "2024-10-28 22:11:24,183 INFO sqlalchemy.engine.Engine PRAGMA temp.table_info(\"nova\")\n"
          ]
        },
        {
          "output_type": "stream",
          "name": "stderr",
          "text": [
            "INFO:sqlalchemy.engine.Engine:PRAGMA temp.table_info(\"nova\")\n"
          ]
        },
        {
          "output_type": "stream",
          "name": "stdout",
          "text": [
            "2024-10-28 22:11:24,202 INFO sqlalchemy.engine.Engine [raw sql] ()\n"
          ]
        },
        {
          "output_type": "stream",
          "name": "stderr",
          "text": [
            "INFO:sqlalchemy.engine.Engine:[raw sql] ()\n"
          ]
        },
        {
          "output_type": "stream",
          "name": "stdout",
          "text": [
            "2024-10-28 22:11:24,243 INFO sqlalchemy.engine.Engine \n",
            "CREATE TABLE nova (\n",
            "\tid INTEGER NOT NULL, \n",
            "\tdato VARCHAR NOT NULL, \n",
            "\tvalor_1 VARCHAR NOT NULL, \n",
            "\tvalor_2 VARCHAR NOT NULL, \n",
            "\tvalores_opcionales INTEGER, \n",
            "\tPRIMARY KEY (id)\n",
            ")\n",
            "\n",
            "\n"
          ]
        },
        {
          "output_type": "stream",
          "name": "stderr",
          "text": [
            "INFO:sqlalchemy.engine.Engine:\n",
            "CREATE TABLE nova (\n",
            "\tid INTEGER NOT NULL, \n",
            "\tdato VARCHAR NOT NULL, \n",
            "\tvalor_1 VARCHAR NOT NULL, \n",
            "\tvalor_2 VARCHAR NOT NULL, \n",
            "\tvalores_opcionales INTEGER, \n",
            "\tPRIMARY KEY (id)\n",
            ")\n",
            "\n",
            "\n"
          ]
        },
        {
          "output_type": "stream",
          "name": "stdout",
          "text": [
            "2024-10-28 22:11:24,249 INFO sqlalchemy.engine.Engine [no key 0.00568s] ()\n"
          ]
        },
        {
          "output_type": "stream",
          "name": "stderr",
          "text": [
            "INFO:sqlalchemy.engine.Engine:[no key 0.00568s] ()\n"
          ]
        },
        {
          "output_type": "stream",
          "name": "stdout",
          "text": [
            "2024-10-28 22:11:24,401 INFO sqlalchemy.engine.Engine COMMIT\n"
          ]
        },
        {
          "output_type": "stream",
          "name": "stderr",
          "text": [
            "INFO:sqlalchemy.engine.Engine:COMMIT\n"
          ]
        },
        {
          "output_type": "stream",
          "name": "stdout",
          "text": [
            "Engine(sqlite:///database_de_prueba.db)\n"
          ]
        }
      ]
    }
  ]
}