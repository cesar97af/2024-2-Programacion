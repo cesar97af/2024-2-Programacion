{
  "nbformat": 4,
  "nbformat_minor": 0,
  "metadata": {
    "colab": {
      "provenance": []
    },
    "kernelspec": {
      "name": "python3",
      "display_name": "Python 3"
    },
    "language_info": {
      "name": "python"
    }
  },
  "cells": [
    {
      "cell_type": "markdown",
      "source": [
        "En SQL, Cascade Delete Relationships es una característica que asegura que, cuando se elimina un registro en una tabla \"principal\", todos los registros relacionados en la tabla \"hija\" también se eliminen automáticamente. Esto es útil para mantener la integridad referencial y evitar datos huérfanos (registros en la tabla hija que ya no tienen una relación válida con un registro en la tabla principal)."
      ],
      "metadata": {
        "id": "uOHGQZiAwjvm"
      }
    },
    {
      "cell_type": "code",
      "execution_count": null,
      "metadata": {
        "id": "gFiy3WHywRJ_"
      },
      "outputs": [],
      "source": [
        "from sqlmodel import SQLModel, Field, create_engine, Session, Relationship\n",
        "from typing import List, Optional\n",
        "from datetime import date\n",
        "\n",
        "class Measurement(SQLModel, table=True):\n",
        "    id: Optional[int] = Field(default=None, primary_key=True)\n",
        "    experiment_id: int = Field(foreign_key=\"experiments.id\", nullable=False)\n",
        "    temperature: float  # Temperatura en Kelvin\n",
        "    pressure: float     # Presión en Pascales\n",
        "    volume: float       # Volumen en m³\n",
        "    experiment: \"Experiment\" = Relationship(back_populates=\"measurements\")\n",
        "\n",
        "class Experiment(SQLModel, table=True):\n",
        "    id: Optional[int] = Field(default=None, primary_key=True)\n",
        "    name: str\n",
        "    description: Optional[str]\n",
        "    date_performed: date\n",
        "    measurements: List[Measurement] = Relationship(\n",
        "        back_populates=\"experiment\",\n",
        "        sa_relationship_kwargs={\"cascade\": \"all, delete-orphan\"}\n",
        "    )\n",
        "\n",
        "# Crear la base de datos\n",
        "engine = create_engine(\"sqlite:///thermodynamics.db\", echo=True)\n",
        "SQLModel.metadata.create_all(engine)\n",
        "\n",
        "# Ejemplo de inserción y eliminación\n",
        "with Session(engine) as session:\n",
        "    # Crear un experimento con mediciones\n",
        "    experiment = Experiment(\n",
        "        name=\"Compresión adiabática\",\n",
        "        description=\"Estudio de la compresión adiabática de un gas ideal\",\n",
        "        date_performed=\"2024-11-01\",\n",
        "        measurements=[\n",
        "            Measurement(temperature=300.15, pressure=202650, volume=0.05),\n",
        "            Measurement(temperature=400.15, pressure=405300, volume=0.025)\n",
        "        ]\n",
        "    )\n",
        "    session.add(experiment)\n",
        "    session.commit()\n",
        "\n",
        "    # Eliminar el experimento y las mediciones asociadas\n",
        "    session.delete(experiment)\n",
        "    session.commit()"
      ]
    }
  ]
}