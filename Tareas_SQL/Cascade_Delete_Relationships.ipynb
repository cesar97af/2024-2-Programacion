{
 "cells": [
  {
   "cell_type": "markdown",
   "metadata": {
    "id": "uOHGQZiAwjvm"
   },
   "source": [
    "En SQL, Cascade Delete Relationships es una característica que asegura que, cuando se elimina un registro en una tabla \"principal\", todos los registros relacionados en la tabla \"hija\" también se eliminen automáticamente. Esto es útil para mantener la integridad referencial y evitar datos huérfanos (registros en la tabla hija que ya no tienen una relación válida con un registro en la tabla principal)."
   ]
  },
  {
   "cell_type": "code",
   "execution_count": 1,
   "metadata": {
    "id": "gFiy3WHywRJ_"
   },
   "outputs": [],
   "source": [
    "from sqlmodel import SQLModel, Field, create_engine, Session, Relationship\n",
    "from typing import List, Optional\n",
    "from datetime import date"
   ]
  },
  {
   "cell_type": "markdown",
   "metadata": {},
   "source": [
    "Se va a crear una Tabla que relacione un experimento en termodinamica, en la suponemos que estamos modelando datos. Tenemos dos tablas principales:\n",
    "\n",
    "Experimentos (Tabla principal): Registra los experimentos realizados.\n",
    "Medidas (Tabla hija): Contiene las mediciones realizadas para cada experimento, como presión, temperatura, volumen, etc.\n",
    "\n",
    "Cuando se elimina un experimento de la tabla Experiments, queremos que todas las mediciones asociadas en Measurements también se eliminen automáticamente. Es en esencia el ejemplo"
   ]
  },
  {
   "cell_type": "code",
   "execution_count": 2,
   "metadata": {},
   "outputs": [],
   "source": [
    "class Experimento(SQLModel, table=True):\n",
    "    __tablename__ = 'experimentos'  # Nombre de la tabla 1\n",
    "    id: Optional[int] = Field(default=None, primary_key=True)\n",
    "    name: str\n",
    "    descripcion: Optional[str]\n",
    "    fecha_realizada: date\n",
    "    medidas: List[\"Medidas\"] = Relationship(\n",
    "        back_populates=\"experimento\",\n",
    "        sa_relationship_kwargs={\"cascade\": \"all, delete-orphan\"}\n",
    "    )\n",
    "\n",
    "class Medidas(SQLModel, table=True):\n",
    "    __tablename__ = 'medidas'  # Nombre de la tabla 2\n",
    "    id: Optional[int] = Field(default=None, primary_key=True)\n",
    "    experimento_id: int = Field(foreign_key=\"experimentos.id\", nullable=False)\n",
    "    temperatura: float  # Temperatura en Kelvin\n",
    "    presion: float     # Presión en Pascales\n",
    "    volumen: float     # Volumen en m³\n",
    "    experimento: \"Experimento\" = Relationship(back_populates=\"medidas\")"
   ]
  },
  {
   "cell_type": "code",
   "execution_count": 3,
   "metadata": {},
   "outputs": [
    {
     "name": "stdout",
     "output_type": "stream",
     "text": [
      "2024-11-22 14:53:10,563 INFO sqlalchemy.engine.Engine BEGIN (implicit)\n",
      "2024-11-22 14:53:10,727 INFO sqlalchemy.engine.Engine PRAGMA main.table_info(\"experimentos\")\n",
      "2024-11-22 14:53:10,731 INFO sqlalchemy.engine.Engine [raw sql] ()\n",
      "2024-11-22 14:53:10,734 INFO sqlalchemy.engine.Engine PRAGMA main.table_info(\"medidas\")\n",
      "2024-11-22 14:53:10,735 INFO sqlalchemy.engine.Engine [raw sql] ()\n",
      "2024-11-22 14:53:10,739 INFO sqlalchemy.engine.Engine COMMIT\n"
     ]
    }
   ],
   "source": [
    "# Crear la base de datos\n",
    "engine = create_engine(\"sqlite:///thermodynamics.db\", echo=True)\n",
    "SQLModel.metadata.create_all(engine)"
   ]
  },
  {
   "cell_type": "code",
   "execution_count": 4,
   "metadata": {},
   "outputs": [
    {
     "name": "stdout",
     "output_type": "stream",
     "text": [
      "2024-11-22 14:53:14,423 INFO sqlalchemy.engine.Engine BEGIN (implicit)\n",
      "2024-11-22 14:53:14,424 INFO sqlalchemy.engine.Engine PRAGMA main.table_info(\"experimentos\")\n",
      "2024-11-22 14:53:14,426 INFO sqlalchemy.engine.Engine [raw sql] ()\n",
      "2024-11-22 14:53:14,430 INFO sqlalchemy.engine.Engine PRAGMA main.table_info(\"medidas\")\n",
      "2024-11-22 14:53:14,431 INFO sqlalchemy.engine.Engine [raw sql] ()\n",
      "2024-11-22 14:53:14,435 INFO sqlalchemy.engine.Engine COMMIT\n"
     ]
    }
   ],
   "source": [
    "# Las tablas se crearon en el orden adecuado=\n",
    "SQLModel.metadata.create_all(engine)"
   ]
  },
  {
   "cell_type": "code",
   "execution_count": 5,
   "metadata": {},
   "outputs": [],
   "source": [
    "# Ejemplo de inserción de nuevos datos\n",
    "with Session(engine) as session:\n",
    "    # Crear un nuevo experimento con mediciones\n",
    "    experimento1 = Experimento(\n",
    "        name=\"Expansión isotérmica\",\n",
    "        descripcion=\"Estudio de la expansión isotérmica de un gas ideal\",\n",
    "        fecha_realizada=date(2024, 11, 15),\n",
    "        medidas=[\n",
    "            Medidas(temperatura=350.15, presion=150000, volumen=0.1),\n",
    "            Medidas(temperatura=360.15, presion=145000, volumen=0.12)\n",
    "        ]\n",
    "    )\n",
    "    session.add(experimento1)\n",
    "\n",
    "        # Crear otro experimento con mediciones\n",
    "    experimento2 = Experimento(\n",
    "        name=\"Calor específico\",\n",
    "        descripcion=\"Determinación del calor específico de un gas a presión constante\",\n",
    "        fecha_realizada=date(2024, 11, 16),\n",
    "        medidas=[\n",
    "            Medidas(temperatura=310.15, presion=200000, volumen=0.08),\n",
    "            Medidas(temperatura=320.15, presion=195000, volumen=0.09)\n",
    "        ]\n",
    "    )\n",
    "    session.add(experimento2)"
   ]
  },
  {
   "cell_type": "code",
   "execution_count": 6,
   "metadata": {},
   "outputs": [
    {
     "name": "stdout",
     "output_type": "stream",
     "text": [
      "2024-11-22 14:53:22,353 INFO sqlalchemy.engine.Engine BEGIN (implicit)\n",
      "2024-11-22 14:53:22,358 INFO sqlalchemy.engine.Engine INSERT INTO experimentos (name, descripcion, fecha_realizada) VALUES (?, ?, ?)\n",
      "2024-11-22 14:53:22,359 INFO sqlalchemy.engine.Engine [generated in 0.00185s] ('Compresión adiabática', 'Estudio de la compresión adiabática de un gas ideal', '2024-11-01')\n",
      "2024-11-22 14:53:22,367 INFO sqlalchemy.engine.Engine INSERT INTO medidas (experimento_id, temperatura, presion, volumen) VALUES (?, ?, ?, ?) RETURNING id\n",
      "2024-11-22 14:53:22,368 INFO sqlalchemy.engine.Engine [generated in 0.00044s (insertmanyvalues) 1/2 (ordered; batch not supported)] (1, 300.15, 202650.0, 0.05)\n",
      "2024-11-22 14:53:22,370 INFO sqlalchemy.engine.Engine INSERT INTO medidas (experimento_id, temperatura, presion, volumen) VALUES (?, ?, ?, ?) RETURNING id\n",
      "2024-11-22 14:53:22,371 INFO sqlalchemy.engine.Engine [insertmanyvalues 2/2 (ordered; batch not supported)] (1, 400.15, 405300.0, 0.025)\n",
      "2024-11-22 14:53:22,374 INFO sqlalchemy.engine.Engine COMMIT\n",
      "2024-11-22 14:53:22,383 INFO sqlalchemy.engine.Engine BEGIN (implicit)\n",
      "2024-11-22 14:53:22,392 INFO sqlalchemy.engine.Engine SELECT experimentos.id AS experimentos_id, experimentos.name AS experimentos_name, experimentos.descripcion AS experimentos_descripcion, experimentos.fecha_realizada AS experimentos_fecha_realizada \n",
      "FROM experimentos \n",
      "WHERE experimentos.id = ?\n",
      "2024-11-22 14:53:22,394 INFO sqlalchemy.engine.Engine [generated in 0.00209s] (1,)\n",
      "2024-11-22 14:53:22,403 INFO sqlalchemy.engine.Engine SELECT medidas.id AS medidas_id, medidas.experimento_id AS medidas_experimento_id, medidas.temperatura AS medidas_temperatura, medidas.presion AS medidas_presion, medidas.volumen AS medidas_volumen \n",
      "FROM medidas \n",
      "WHERE ? = medidas.experimento_id\n",
      "2024-11-22 14:53:22,404 INFO sqlalchemy.engine.Engine [generated in 0.00158s] (1,)\n",
      "2024-11-22 14:53:22,412 INFO sqlalchemy.engine.Engine DELETE FROM medidas WHERE medidas.id = ?\n",
      "2024-11-22 14:53:22,414 INFO sqlalchemy.engine.Engine [generated in 0.00148s] [(1,), (2,)]\n",
      "2024-11-22 14:53:22,418 INFO sqlalchemy.engine.Engine DELETE FROM experimentos WHERE experimentos.id = ?\n",
      "2024-11-22 14:53:22,420 INFO sqlalchemy.engine.Engine [generated in 0.00158s] (1,)\n",
      "2024-11-22 14:53:22,422 INFO sqlalchemy.engine.Engine COMMIT\n"
     ]
    }
   ],
   "source": [
    "# Ejemplo de inserción y eliminación\n",
    "with Session(engine) as session:\n",
    "    # Crear un experimento con mediciones\n",
    "    experimento = Experimento(\n",
    "        name=\"Compresión adiabática\",\n",
    "        descripcion=\"Estudio de la compresión adiabática de un gas ideal\",\n",
    "        fecha_realizada=date(2024, 11, 1),  # Objeto date de Python (acá habia un error)\n",
    "        medidas=[\n",
    "            Medidas(temperatura=300.15, presion=202650, volumen=0.05),\n",
    "            Medidas(temperatura=400.15, presion=405300, volumen=0.025)\n",
    "        ]\n",
    "    )\n",
    "    session.add(experimento)\n",
    "    session.commit()\n",
    "\n",
    "    # Eliminar el experimento y las mediciones asociadas\n",
    "    session.delete(experimento)\n",
    "    session.commit()"
   ]
  }
 ],
 "metadata": {
  "colab": {
   "provenance": []
  },
  "kernelspec": {
   "display_name": "Python 3",
   "name": "python3"
  },
  "language_info": {
   "codemirror_mode": {
    "name": "ipython",
    "version": 3
   },
   "file_extension": ".py",
   "mimetype": "text/x-python",
   "name": "python",
   "nbconvert_exporter": "python",
   "pygments_lexer": "ipython3",
   "version": "3.12.5"
  }
 },
 "nbformat": 4,
 "nbformat_minor": 0
}
