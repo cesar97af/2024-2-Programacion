{
  "cells": [
    {
      "cell_type": "markdown",
      "metadata": {
        "id": "lETn9eaZqaHl"
      },
      "source": [
        "## Tarea\n",
        "\n",
        "En el presente material se intentará explicar de manera lo más clara posible el material dejado en el repositorio del curso"
      ]
    },
    {
      "cell_type": "markdown",
      "metadata": {
        "id": "b4ovopO-qaHx"
      },
      "source": [
        "Primera parte: las importaciones"
      ]
    },
    {
      "cell_type": "code",
      "execution_count": null,
      "metadata": {
        "id": "fAs3elXbqaHz"
      },
      "outputs": [],
      "source": [
        "from typing import Optional\n",
        "import asyncio\n",
        "import httpx\n",
        "from sqlmodel import SQLModel\n",
        "from pydantic import BaseModel"
      ]
    },
    {
      "cell_type": "markdown",
      "metadata": {
        "id": "YotCnzDUqaH3"
      },
      "source": [
        "```from typing import Optional```: Iniciamos con  el tipo ```Optional``` del módulo ```typing```, que se utiliza para indicar que un valor puede ser de un tipo específico o None. Es decir si es entero o un \"None\"\n",
        "\n",
        "```import asyncio```: Trae a colación al módulo ```asyncio```, que permite escribir \"código concurrente usando la sintaxis ```async/await``` (Fte: Fast Api)\". Esta a su vez puede ejecutar tareas de forma asíncrona, como realizar múltiples solicitudes de red simultáneamente. Según FASTAPI, esto permite manejar operaciones lentas sin bloquearse, es decir en otros terminos: simultaneidad = múltiples tareas aparentemente al mismo tiempo y paralelismo = tareas ejecutándose realmente al mismo tiempo\n",
        "\n",
        "```import httpx```: Esto importa a ```httpx```, esta es una biblioteca para realizar solicitudes HTTP de manera fácil y eficiente (Según la página de la libreria). Es similar a ```requests```, pero con soporte nativo para operaciones asíncronas.\n",
        "\n",
        "```from sqlmodel import SQLModel```: Importa a la clase ```SQLModel``` del módulo ```sqlmodel```, ya sabemos que \"facilita\" la creación y manipulación de bases de datos utilizando modelos de datos definidos con clases Python.\n",
        "\n",
        "```from pydantic import BaseModel```: Esto importa la clase BaseModel de la biblioteca pydantic, nuevamente según la [biblioteca](https://docs.pydantic.dev/latest/why/) que se usa para definir modelos de datos y validación de datos con tipado estático. Se supone que es especialmente útil para asegurarse de que los datos cumplen con ciertas condiciones o formatos."
      ]
    },
    {
      "cell_type": "code",
      "source": [
        "# Modelo de Exoplaneta (ahora permite valores nulos en los campos numéricos)\n",
        "class Exoplanet(BaseModel):\n",
        "    pl_name: str\n",
        "    disc_year: int\n",
        "    pl_orbper: Optional[float]  # Este campo puede ser None\n",
        "    pl_bmassj: Optional[float]  # Este campo puede ser None"
      ],
      "metadata": {
        "id": "gHKXzZpNqyB7"
      },
      "execution_count": null,
      "outputs": []
    },
    {
      "cell_type": "markdown",
      "source": [
        "**Clase `Exoplanet`**\n",
        "\n",
        "La clase `Exoplanet` define un modelo de datos para representar un exoplaneta utilizando **Pydantic** y hereda de `BaseModel`, lo que permite la validación automática de tipos de datos y conversiones.\n",
        "\n",
        "- **`pl_name: str`**: Atributo de tipo `str` que almacena el nombre del exoplaneta.\n",
        "- **`disc_year: int`**: Atributo de tipo `int` que representa el año en que se descubrió el exoplaneta.\n",
        "- **`pl_orbper: Optional[float]`**: Atributo que puede ser un número decimal (`float`) o `None`, indicando el período orbital del exoplaneta.\n",
        "- **`pl_bmassj: Optional[float]`**: Atributo que puede ser un número decimal (`float`) o `None`, representando la masa del exoplaneta en unidades de masa de Júpiter.\n",
        "\n",
        "Los campos opcionales (`Optional[float]`) permiten que el valor sea nulo si la página se dispone de la información.\n"
      ],
      "metadata": {
        "id": "620UV2tGq0Ls"
      }
    },
    {
      "cell_type": "code",
      "source": [
        "# Función para obtener datos de la NASA Exoplanet Archive\n",
        "async def fetch_exoplanets():\n",
        "    url = \"https://exoplanetarchive.ipac.caltech.edu/TAP/sync\"\n",
        "    query = \"\"\"\n",
        "    SELECT pl_name, disc_year, pl_orbper, pl_bmassj\n",
        "    FROM ps\n",
        "    WHERE disc_year >= 2020\n",
        "    AND ROWNUM <= 5\n",
        "    \"\"\"\n",
        "    params = {\n",
        "        \"query\": query,\n",
        "        \"format\": \"json\"\n",
        "    }\n",
        "\n",
        "    async with httpx.AsyncClient() as client:\n",
        "        response = await client.get(url, params=params)\n",
        "        if response.status_code != 200:\n",
        "            print(f\"Error: {response.status_code}, {response.text}\")\n",
        "            return []\n",
        "\n",
        "        try:\n",
        "            data = response.json()\n",
        "        except ValueError:\n",
        "            print(\"La respuesta no es JSON válida. Contenido de la respuesta:\")\n",
        "            print(response.text)\n",
        "            return []\n",
        "\n",
        "        return [Exoplanet(**row) for row in data]"
      ],
      "metadata": {
        "id": "jjQutNkYqzVS"
      },
      "execution_count": null,
      "outputs": []
    },
    {
      "cell_type": "markdown",
      "source": [
        "La función `fetch_exoplanets` se encarga de obtener datos sobre exoplanetas desde la **NASA Exoplanet Archive** utilizando una consulta SQL y la librería `httpx` de manera asíncrona.\n",
        "\n",
        "1. **URL y consulta SQL**: Se define la URL de acceso a la API de la NASA Exoplanet Archive y una consulta SQL que selecciona los campos `pl_name`, `disc_year`, `pl_orbper` y `pl_bmassj` de exoplanetas descubiertos a partir de 2020, limitando los resultados a los primeros 5.\n",
        "\n",
        "2. **Parámetros de la consulta**: Se crea un diccionario `params` con la consulta SQL y el formato de respuesta deseado (JSON).\n",
        "\n",
        "3. **Solicitud HTTP asíncrona**: Se realiza una solicitud `GET` asíncrona usando `httpx.AsyncClient()` para obtener los datos.\n",
        "\n",
        "4. **Manejo de errores**: Si la respuesta no tiene un código de estado 200 (OK), se imprime un mensaje de error. Si la respuesta no es JSON válido, también se maneja ese error.\n",
        "\n",
        "5. **Conversión de datos**: Si la respuesta es válida, se convierte cada fila de datos a un objeto `Exoplanet` usando el constructor `Exoplanet(**row)` y se retorna una lista de estos objetos. Tecnicamente convierte los datos obtenidos en objetos de la clase `Exoplanet`.\n",
        "\n"
      ],
      "metadata": {
        "id": "SvF2cFS0t5ua"
      }
    },
    {
      "cell_type": "code",
      "source": [
        "# Función principal que ejecuta la consulta\n",
        "async def main():\n",
        "    exoplanets = await fetch_exoplanets()\n",
        "    for planet in exoplanets:\n",
        "        print(f\"Nombre: {planet.pl_name}, Año de descubrimiento: {planet.disc_year}, \"\n",
        "              f\"Periodo orbital (días): {planet.pl_orbper}, Masa (Júpiter): {planet.pl_bmassj}\")\n",
        "\n",
        "if __name__ == \"__main__\":\n",
        "    asyncio.run(main())"
      ],
      "metadata": {
        "id": "faImT_Spuyzv"
      },
      "execution_count": null,
      "outputs": []
    },
    {
      "cell_type": "markdown",
      "source": [
        "La función `main` es la función principal que ejecuta la consulta para obtener los exoplanetas y luego muestra sus detalles.\n",
        "\n",
        "1. **Obtiene los exoplanetas**: Se llama a la función `fetch_exoplanets()` de manera asíncrona utilizando `await`, lo que arroja una lista de objetos `Exoplanet` con los datos de los exoplanetas.\n",
        "\n",
        "2. **Print**: Se imprime la  información optenida: nombre, año de descubrimiento, período orbital (en días) y masa (en unidades de masa de Júpiter).\n",
        "\n",
        "3. **Ejecuta el programa**: La parte `if __name__ == \"__main__\":` verifica que el código solo se ejecute cuando el archivo se corre directamente. Ahí, se ejecuta la función `main()` usando `asyncio.run()`, que maneja la ejecución de tareas asíncronas. (lo saqué en parte en la doc de Fast Api)"
      ],
      "metadata": {
        "id": "qVtkmRfBvAdI"
      }
    }
  ],
  "metadata": {
    "language_info": {
      "name": "python"
    },
    "colab": {
      "provenance": []
    }
  },
  "nbformat": 4,
  "nbformat_minor": 0
}