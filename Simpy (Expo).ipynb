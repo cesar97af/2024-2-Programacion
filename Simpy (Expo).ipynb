{
  "nbformat": 4,
  "nbformat_minor": 0,
  "metadata": {
    "colab": {
      "provenance": []
    },
    "kernelspec": {
      "name": "python3",
      "display_name": "Python 3"
    },
    "language_info": {
      "name": "python"
    }
  },
  "cells": [
    {
      "cell_type": "markdown",
      "source": [
        "# SimPy\n",
        "\n",
        "Primero procedemos a instalar la librería (Esta no se encuentra en Colab):\n",
        "\n",
        "El método para instalar en colab difiere de Windows:\n",
        "\n",
        "`pip install simpy` Para Windows o también: `$ pip install simpy`\n",
        "\n",
        "\n",
        "`!pip install simpy` Para Colab\n",
        "\n",
        "`sudo apt install python3-simpy` para la instación en distribuciones GNU-Linux (No en todas)\n",
        "\n",
        "\n",
        "\n"
      ],
      "metadata": {
        "id": "z3OVPevBZm0G"
      }
    },
    {
      "cell_type": "code",
      "source": [
        "!pip install simpy"
      ],
      "metadata": {
        "id": "Ur0JFlj-bZLa",
        "outputId": "b90b40d5-fc2f-4458-f480-825af8cda93b",
        "colab": {
          "base_uri": "https://localhost:8080/"
        }
      },
      "execution_count": null,
      "outputs": [
        {
          "output_type": "stream",
          "name": "stdout",
          "text": [
            "Collecting simpy\n",
            "  Downloading simpy-4.1.1-py3-none-any.whl.metadata (6.1 kB)\n",
            "Downloading simpy-4.1.1-py3-none-any.whl (27 kB)\n",
            "Installing collected packages: simpy\n",
            "Successfully installed simpy-4.1.1\n"
          ]
        }
      ]
    },
    {
      "cell_type": "code",
      "source": [
        "import simpy"
      ],
      "metadata": {
        "id": "fEblPfqBHzzH"
      },
      "execution_count": null,
      "outputs": []
    },
    {
      "cell_type": "markdown",
      "source": [
        "**Simpy** es una biblioteca de Python utilizada para la simulación de eventos discretos (de ahí su nombre **Sim**ulate **Py**thon). Permite a los usuarios modelar sistemas complejos y simular su comportamiento a lo largo del tiempo, esta libreria es usada en diversas áreas como la ingeniería, la investigación operativa y la gestión de procesos."
      ],
      "metadata": {
        "id": "VJYUGPwpIHcP"
      }
    },
    {
      "cell_type": "code",
      "source": [
        "#Un ejemplo\n",
        "import random\n",
        "import math\n",
        "\n",
        "#Definimos la clase Particula\n",
        "class Particula:\n",
        "  def __init__(self, env, nombre, x, y, vx, vy, contenedor):\n",
        "    self.env = env\n",
        "    self.nombre = nombre\n",
        "    self.x = x #Posición en x\n",
        "    self.y = y #Posición en y\n",
        "    self.vx = vx #Velocidad de x\n",
        "    self.vy = vy #Velocidad en y\n",
        "    self.contenedor = contenedor\n",
        "    self.action = env.process(self.mover())\n",
        "\n",
        "  def mover(self):\n",
        "    while True:\n",
        "      #Calculamos el tiempo en el que realizará el siguiente movimiento\n",
        "      tiempo = 0.1 # Intervalo de tiempo para el movimiento\n",
        "      yield self.env.timeout(tiempo)\n",
        "\n",
        "      #Actualizamos la posición de la partícula\n",
        "      self.x += self.vx * tiempo\n",
        "      self.y += self.vy * tiempo\n",
        "\n",
        "      #Verificamos las colisiones de la partícula en la pared del contenedor\n",
        "      if self.x <= 0 or self.x >= self.contenedor['ancho']:\n",
        "        self.vx = -self.vx #Rebote pared vertical\n",
        "      if self.y <= 0 or self.y >= self.contenedor['alto']:\n",
        "        self.vy = -self.vy #Rebote pared horizontal\n",
        "\n",
        "      # Imprimimos la posición actual de la particula\n",
        "      print(f'Particula {self.nombre} en ({self.x:.2f}, {self.y:.2f}) en tiempo {self.env.now:.2f}')"
      ],
      "metadata": {
        "id": "BIXLODM2H2dc"
      },
      "execution_count": null,
      "outputs": []
    },
    {
      "cell_type": "markdown",
      "source": [
        "El anterior código por ejemplo, se simula un sistema simple donde varias partículas se mueven en un espacio bidimensional y rebotan al chocar con las paredes de un contenedor. Esto sirve para particulas de un gas ideal. A continuación se procede a ejecutar los datos que requiramos"
      ],
      "metadata": {
        "id": "8TfyKABIRXBY"
      }
    },
    {
      "cell_type": "code",
      "source": [
        "#Colocamos los datos\n",
        "an = float(input(\"Ingrese el ancho: \"))\n",
        "al = float(input(\"Ingrese el alto: \"))\n",
        "n = int(input(\"Ingrese el numero de particulas: \"))\n",
        "t = float(input(\"Ingrese el tiempo de simulacion: \"))\n",
        "\n",
        "# Definimos el entorno de simulación\n",
        "env = simpy.Environment()\n",
        "contenedor = {'ancho': an, 'alto': al} #dimensiones del contenedor\n",
        "\n",
        "#Creamos particulas con posiciones y velocidades aleatorias\n",
        "for i in range(n):\n",
        "  x = random.uniform(0, contenedor['ancho'])\n",
        "  y = random.uniform(0, contenedor['alto'])\n",
        "  vx = random.uniform(-1, 1)\n",
        "  vy = random.uniform(-1, 1)\n",
        "  particula = Particula(env, f'Particula {i+1}', x, y, vx, vy, contenedor)\n",
        "\n",
        "#Iniciamos la simulación\n",
        "env.run(until=t) #Simulamos durante n unidades de tiempo"
      ],
      "metadata": {
        "colab": {
          "base_uri": "https://localhost:8080/"
        },
        "id": "jwtlKGRiK8iv",
        "outputId": "3028a395-8587-4c08-e224-a2c8cd0f2d5c"
      },
      "execution_count": null,
      "outputs": [
        {
          "output_type": "stream",
          "name": "stdout",
          "text": [
            "Ingrese el ancho: 10\n",
            "Ingrese el alto: 12\n",
            "Ingrese el numero de particulas: 4\n",
            "Ingrese el tiempo de simulacion: 5\n",
            "Particula Particula 1 en (5.58, 7.96) en tiempo 0.10\n",
            "Particula Particula 2 en (9.58, 2.25) en tiempo 0.10\n",
            "Particula Particula 3 en (4.60, 5.57) en tiempo 0.10\n",
            "Particula Particula 4 en (9.35, 2.54) en tiempo 0.10\n",
            "Particula Particula 1 en (5.61, 7.99) en tiempo 0.20\n",
            "Particula Particula 2 en (9.50, 2.19) en tiempo 0.20\n",
            "Particula Particula 3 en (4.56, 5.62) en tiempo 0.20\n",
            "Particula Particula 4 en (9.42, 2.54) en tiempo 0.20\n",
            "Particula Particula 1 en (5.65, 8.02) en tiempo 0.30\n",
            "Particula Particula 2 en (9.41, 2.12) en tiempo 0.30\n",
            "Particula Particula 3 en (4.52, 5.67) en tiempo 0.30\n",
            "Particula Particula 4 en (9.49, 2.53) en tiempo 0.30\n",
            "Particula Particula 1 en (5.69, 8.04) en tiempo 0.40\n",
            "Particula Particula 2 en (9.33, 2.06) en tiempo 0.40\n",
            "Particula Particula 3 en (4.48, 5.72) en tiempo 0.40\n",
            "Particula Particula 4 en (9.55, 2.52) en tiempo 0.40\n",
            "Particula Particula 1 en (5.72, 8.07) en tiempo 0.50\n",
            "Particula Particula 2 en (9.24, 1.99) en tiempo 0.50\n",
            "Particula Particula 3 en (4.44, 5.77) en tiempo 0.50\n",
            "Particula Particula 4 en (9.62, 2.52) en tiempo 0.50\n",
            "Particula Particula 1 en (5.76, 8.10) en tiempo 0.60\n",
            "Particula Particula 2 en (9.16, 1.93) en tiempo 0.60\n",
            "Particula Particula 3 en (4.40, 5.82) en tiempo 0.60\n",
            "Particula Particula 4 en (9.69, 2.51) en tiempo 0.60\n",
            "Particula Particula 1 en (5.79, 8.13) en tiempo 0.70\n",
            "Particula Particula 2 en (9.07, 1.86) en tiempo 0.70\n",
            "Particula Particula 3 en (4.37, 5.87) en tiempo 0.70\n",
            "Particula Particula 4 en (9.76, 2.51) en tiempo 0.70\n",
            "Particula Particula 1 en (5.83, 8.16) en tiempo 0.80\n",
            "Particula Particula 2 en (8.99, 1.80) en tiempo 0.80\n",
            "Particula Particula 3 en (4.33, 5.92) en tiempo 0.80\n",
            "Particula Particula 4 en (9.82, 2.50) en tiempo 0.80\n",
            "Particula Particula 1 en (5.87, 8.18) en tiempo 0.90\n",
            "Particula Particula 2 en (8.90, 1.73) en tiempo 0.90\n",
            "Particula Particula 3 en (4.29, 5.97) en tiempo 0.90\n",
            "Particula Particula 4 en (9.89, 2.50) en tiempo 0.90\n",
            "Particula Particula 1 en (5.90, 8.21) en tiempo 1.00\n",
            "Particula Particula 2 en (8.82, 1.67) en tiempo 1.00\n",
            "Particula Particula 3 en (4.25, 6.02) en tiempo 1.00\n",
            "Particula Particula 4 en (9.96, 2.49) en tiempo 1.00\n",
            "Particula Particula 1 en (5.94, 8.24) en tiempo 1.10\n",
            "Particula Particula 2 en (8.73, 1.60) en tiempo 1.10\n",
            "Particula Particula 3 en (4.21, 6.07) en tiempo 1.10\n",
            "Particula Particula 4 en (10.03, 2.49) en tiempo 1.10\n",
            "Particula Particula 1 en (5.97, 8.27) en tiempo 1.20\n",
            "Particula Particula 2 en (8.65, 1.54) en tiempo 1.20\n",
            "Particula Particula 3 en (4.17, 6.12) en tiempo 1.20\n",
            "Particula Particula 4 en (9.96, 2.48) en tiempo 1.20\n",
            "Particula Particula 1 en (6.01, 8.29) en tiempo 1.30\n",
            "Particula Particula 2 en (8.56, 1.47) en tiempo 1.30\n",
            "Particula Particula 3 en (4.13, 6.17) en tiempo 1.30\n",
            "Particula Particula 4 en (9.89, 2.48) en tiempo 1.30\n",
            "Particula Particula 1 en (6.04, 8.32) en tiempo 1.40\n",
            "Particula Particula 2 en (8.48, 1.41) en tiempo 1.40\n",
            "Particula Particula 3 en (4.09, 6.22) en tiempo 1.40\n",
            "Particula Particula 4 en (9.82, 2.47) en tiempo 1.40\n",
            "Particula Particula 1 en (6.08, 8.35) en tiempo 1.50\n",
            "Particula Particula 2 en (8.39, 1.34) en tiempo 1.50\n",
            "Particula Particula 3 en (4.05, 6.27) en tiempo 1.50\n",
            "Particula Particula 4 en (9.76, 2.47) en tiempo 1.50\n",
            "Particula Particula 1 en (6.12, 8.38) en tiempo 1.60\n",
            "Particula Particula 2 en (8.31, 1.28) en tiempo 1.60\n",
            "Particula Particula 3 en (4.01, 6.32) en tiempo 1.60\n",
            "Particula Particula 4 en (9.69, 2.46) en tiempo 1.60\n",
            "Particula Particula 1 en (6.15, 8.40) en tiempo 1.70\n",
            "Particula Particula 2 en (8.22, 1.21) en tiempo 1.70\n",
            "Particula Particula 3 en (3.97, 6.37) en tiempo 1.70\n",
            "Particula Particula 4 en (9.62, 2.45) en tiempo 1.70\n",
            "Particula Particula 1 en (6.19, 8.43) en tiempo 1.80\n",
            "Particula Particula 2 en (8.14, 1.15) en tiempo 1.80\n",
            "Particula Particula 3 en (3.94, 6.42) en tiempo 1.80\n",
            "Particula Particula 4 en (9.55, 2.45) en tiempo 1.80\n",
            "Particula Particula 1 en (6.22, 8.46) en tiempo 1.90\n",
            "Particula Particula 2 en (8.05, 1.08) en tiempo 1.90\n",
            "Particula Particula 3 en (3.90, 6.47) en tiempo 1.90\n",
            "Particula Particula 4 en (9.49, 2.44) en tiempo 1.90\n",
            "Particula Particula 1 en (6.26, 8.49) en tiempo 2.00\n",
            "Particula Particula 2 en (7.97, 1.02) en tiempo 2.00\n",
            "Particula Particula 3 en (3.86, 6.52) en tiempo 2.00\n",
            "Particula Particula 4 en (9.42, 2.44) en tiempo 2.00\n",
            "Particula Particula 1 en (6.29, 8.51) en tiempo 2.10\n",
            "Particula Particula 2 en (7.88, 0.95) en tiempo 2.10\n",
            "Particula Particula 3 en (3.82, 6.57) en tiempo 2.10\n",
            "Particula Particula 4 en (9.35, 2.43) en tiempo 2.10\n",
            "Particula Particula 1 en (6.33, 8.54) en tiempo 2.20\n",
            "Particula Particula 2 en (7.80, 0.89) en tiempo 2.20\n",
            "Particula Particula 3 en (3.78, 6.62) en tiempo 2.20\n",
            "Particula Particula 4 en (9.28, 2.43) en tiempo 2.20\n",
            "Particula Particula 1 en (6.37, 8.57) en tiempo 2.30\n",
            "Particula Particula 2 en (7.71, 0.82) en tiempo 2.30\n",
            "Particula Particula 3 en (3.74, 6.67) en tiempo 2.30\n",
            "Particula Particula 4 en (9.21, 2.42) en tiempo 2.30\n",
            "Particula Particula 1 en (6.40, 8.60) en tiempo 2.40\n",
            "Particula Particula 2 en (7.63, 0.76) en tiempo 2.40\n",
            "Particula Particula 3 en (3.70, 6.73) en tiempo 2.40\n",
            "Particula Particula 4 en (9.15, 2.42) en tiempo 2.40\n",
            "Particula Particula 1 en (6.44, 8.63) en tiempo 2.50\n",
            "Particula Particula 2 en (7.54, 0.69) en tiempo 2.50\n",
            "Particula Particula 3 en (3.66, 6.78) en tiempo 2.50\n",
            "Particula Particula 4 en (9.08, 2.41) en tiempo 2.50\n",
            "Particula Particula 1 en (6.47, 8.65) en tiempo 2.60\n",
            "Particula Particula 2 en (7.46, 0.63) en tiempo 2.60\n",
            "Particula Particula 3 en (3.62, 6.83) en tiempo 2.60\n",
            "Particula Particula 4 en (9.01, 2.41) en tiempo 2.60\n",
            "Particula Particula 1 en (6.51, 8.68) en tiempo 2.70\n",
            "Particula Particula 2 en (7.37, 0.56) en tiempo 2.70\n",
            "Particula Particula 3 en (3.58, 6.88) en tiempo 2.70\n",
            "Particula Particula 4 en (8.94, 2.40) en tiempo 2.70\n",
            "Particula Particula 1 en (6.54, 8.71) en tiempo 2.80\n",
            "Particula Particula 2 en (7.29, 0.50) en tiempo 2.80\n",
            "Particula Particula 3 en (3.54, 6.93) en tiempo 2.80\n",
            "Particula Particula 4 en (8.88, 2.40) en tiempo 2.80\n",
            "Particula Particula 1 en (6.58, 8.74) en tiempo 2.90\n",
            "Particula Particula 2 en (7.20, 0.43) en tiempo 2.90\n",
            "Particula Particula 3 en (3.51, 6.98) en tiempo 2.90\n",
            "Particula Particula 4 en (8.81, 2.39) en tiempo 2.90\n",
            "Particula Particula 1 en (6.62, 8.76) en tiempo 3.00\n",
            "Particula Particula 2 en (7.12, 0.37) en tiempo 3.00\n",
            "Particula Particula 3 en (3.47, 7.03) en tiempo 3.00\n",
            "Particula Particula 4 en (8.74, 2.38) en tiempo 3.00\n",
            "Particula Particula 1 en (6.65, 8.79) en tiempo 3.10\n",
            "Particula Particula 2 en (7.03, 0.30) en tiempo 3.10\n",
            "Particula Particula 3 en (3.43, 7.08) en tiempo 3.10\n",
            "Particula Particula 4 en (8.67, 2.38) en tiempo 3.10\n",
            "Particula Particula 1 en (6.69, 8.82) en tiempo 3.20\n",
            "Particula Particula 2 en (6.95, 0.24) en tiempo 3.20\n",
            "Particula Particula 3 en (3.39, 7.13) en tiempo 3.20\n",
            "Particula Particula 4 en (8.61, 2.37) en tiempo 3.20\n",
            "Particula Particula 1 en (6.72, 8.85) en tiempo 3.30\n",
            "Particula Particula 2 en (6.86, 0.17) en tiempo 3.30\n",
            "Particula Particula 3 en (3.35, 7.18) en tiempo 3.30\n",
            "Particula Particula 4 en (8.54, 2.37) en tiempo 3.30\n",
            "Particula Particula 1 en (6.76, 8.87) en tiempo 3.40\n",
            "Particula Particula 2 en (6.78, 0.11) en tiempo 3.40\n",
            "Particula Particula 3 en (3.31, 7.23) en tiempo 3.40\n",
            "Particula Particula 4 en (8.47, 2.36) en tiempo 3.40\n",
            "Particula Particula 1 en (6.79, 8.90) en tiempo 3.50\n",
            "Particula Particula 2 en (6.69, 0.04) en tiempo 3.50\n",
            "Particula Particula 3 en (3.27, 7.28) en tiempo 3.50\n",
            "Particula Particula 4 en (8.40, 2.36) en tiempo 3.50\n",
            "Particula Particula 1 en (6.83, 8.93) en tiempo 3.60\n",
            "Particula Particula 2 en (6.61, -0.02) en tiempo 3.60\n",
            "Particula Particula 3 en (3.23, 7.33) en tiempo 3.60\n",
            "Particula Particula 4 en (8.34, 2.35) en tiempo 3.60\n",
            "Particula Particula 1 en (6.87, 8.96) en tiempo 3.70\n",
            "Particula Particula 2 en (6.52, 0.04) en tiempo 3.70\n",
            "Particula Particula 3 en (3.19, 7.38) en tiempo 3.70\n",
            "Particula Particula 4 en (8.27, 2.35) en tiempo 3.70\n",
            "Particula Particula 1 en (6.90, 8.98) en tiempo 3.80\n",
            "Particula Particula 2 en (6.44, 0.11) en tiempo 3.80\n",
            "Particula Particula 3 en (3.15, 7.43) en tiempo 3.80\n",
            "Particula Particula 4 en (8.20, 2.34) en tiempo 3.80\n",
            "Particula Particula 1 en (6.94, 9.01) en tiempo 3.90\n",
            "Particula Particula 2 en (6.35, 0.17) en tiempo 3.90\n",
            "Particula Particula 3 en (3.11, 7.48) en tiempo 3.90\n",
            "Particula Particula 4 en (8.13, 2.34) en tiempo 3.90\n",
            "Particula Particula 1 en (6.97, 9.04) en tiempo 4.00\n",
            "Particula Particula 2 en (6.27, 0.24) en tiempo 4.00\n",
            "Particula Particula 3 en (3.08, 7.53) en tiempo 4.00\n",
            "Particula Particula 4 en (8.07, 2.33) en tiempo 4.00\n",
            "Particula Particula 1 en (7.01, 9.07) en tiempo 4.10\n",
            "Particula Particula 2 en (6.18, 0.30) en tiempo 4.10\n",
            "Particula Particula 3 en (3.04, 7.58) en tiempo 4.10\n",
            "Particula Particula 4 en (8.00, 2.33) en tiempo 4.10\n",
            "Particula Particula 1 en (7.04, 9.09) en tiempo 4.20\n",
            "Particula Particula 2 en (6.10, 0.37) en tiempo 4.20\n",
            "Particula Particula 3 en (3.00, 7.63) en tiempo 4.20\n",
            "Particula Particula 4 en (7.93, 2.32) en tiempo 4.20\n",
            "Particula Particula 1 en (7.08, 9.12) en tiempo 4.30\n",
            "Particula Particula 2 en (6.01, 0.43) en tiempo 4.30\n",
            "Particula Particula 3 en (2.96, 7.68) en tiempo 4.30\n",
            "Particula Particula 4 en (7.86, 2.31) en tiempo 4.30\n",
            "Particula Particula 1 en (7.12, 9.15) en tiempo 4.40\n",
            "Particula Particula 2 en (5.93, 0.50) en tiempo 4.40\n",
            "Particula Particula 3 en (2.92, 7.73) en tiempo 4.40\n",
            "Particula Particula 4 en (7.79, 2.31) en tiempo 4.40\n",
            "Particula Particula 1 en (7.15, 9.18) en tiempo 4.50\n",
            "Particula Particula 2 en (5.84, 0.56) en tiempo 4.50\n",
            "Particula Particula 3 en (2.88, 7.78) en tiempo 4.50\n",
            "Particula Particula 4 en (7.73, 2.30) en tiempo 4.50\n",
            "Particula Particula 1 en (7.19, 9.21) en tiempo 4.60\n",
            "Particula Particula 2 en (5.76, 0.63) en tiempo 4.60\n",
            "Particula Particula 3 en (2.84, 7.83) en tiempo 4.60\n",
            "Particula Particula 4 en (7.66, 2.30) en tiempo 4.60\n",
            "Particula Particula 1 en (7.22, 9.23) en tiempo 4.70\n",
            "Particula Particula 2 en (5.67, 0.69) en tiempo 4.70\n",
            "Particula Particula 3 en (2.80, 7.89) en tiempo 4.70\n",
            "Particula Particula 4 en (7.59, 2.29) en tiempo 4.70\n",
            "Particula Particula 1 en (7.26, 9.26) en tiempo 4.80\n",
            "Particula Particula 2 en (5.59, 0.76) en tiempo 4.80\n",
            "Particula Particula 3 en (2.76, 7.94) en tiempo 4.80\n",
            "Particula Particula 4 en (7.52, 2.29) en tiempo 4.80\n",
            "Particula Particula 1 en (7.29, 9.29) en tiempo 4.90\n",
            "Particula Particula 2 en (5.50, 0.82) en tiempo 4.90\n",
            "Particula Particula 3 en (2.72, 7.99) en tiempo 4.90\n",
            "Particula Particula 4 en (7.46, 2.28) en tiempo 4.90\n",
            "Particula Particula 1 en (7.33, 9.32) en tiempo 5.00\n",
            "Particula Particula 2 en (5.42, 0.89) en tiempo 5.00\n",
            "Particula Particula 3 en (2.68, 8.04) en tiempo 5.00\n",
            "Particula Particula 4 en (7.39, 2.28) en tiempo 5.00\n"
          ]
        }
      ]
    },
    {
      "cell_type": "markdown",
      "source": [
        "Los procesos anteriores se describen mediante generadores, es decir, estos si se llegan a pausar no causarán  tantas afectaciones al código, es decir, se puede volver a continuar el proceso desde donde se le pausó. A lo largo de la ejecución, el método de proceso crea eventos y en cierto tiempo el proceso se detiene temporalmente hasta que se cumple la condición del evento, y así  esperar a que ocurran nuevamente (\"Predice\"). Para ello está los yield, que es lo que permite que un generador pause su ejecución. Cuando el proceso llega a yield, se detiene y devuelve el control al entorno de Simpy, y a su vez, este ejecuta otros procesos, con el fin de reanudar nuevamenete el ciclo."
      ],
      "metadata": {
        "id": "_mgASPQ5Tpch"
      }
    },
    {
      "cell_type": "markdown",
      "source": [
        "Otro importente es Timeout que permite que un proceso espere un tiempo simulado antes de continuar su ejecución. Esto es útil para modelar situaciones donde algo debe suceder después de un cierto período de tiempo. Para crear este tipo de evento, se utiliza un método del entorno de Simpy, como `Environment.timeout()`. Esto permite que el proceso \"duerma\" o mantenga su estado hasta que llegue el momento de reanudar su actividad."
      ],
      "metadata": {
        "id": "2XKDvkNxYxCI"
      }
    },
    {
      "cell_type": "code",
      "source": [
        "# Ejemplo\n",
        "\n",
        "def car(env):\n",
        "  while True:\n",
        "    print('Start parking at %d' % env.now)\n",
        "    parking_duration = 5\n",
        "    yield env.timeout(parking_duration)\n",
        "\n",
        "    print('Start driving at %d' % env.now)\n",
        "    trip_duration = 2\n",
        "    yield env.timeout(trip_duration)"
      ],
      "metadata": {
        "id": "HyIgfVU8To7f"
      },
      "execution_count": null,
      "outputs": []
    },
    {
      "cell_type": "code",
      "source": [
        "env = simpy.Environment()\n",
        "env.process(car(env))"
      ],
      "metadata": {
        "colab": {
          "base_uri": "https://localhost:8080/"
        },
        "id": "JfO7pdXSZa4k",
        "outputId": "01b64384-2cbc-4c6b-9a4d-3175ad45b388"
      },
      "execution_count": null,
      "outputs": [
        {
          "output_type": "execute_result",
          "data": {
            "text/plain": [
              "<Process(car) object at 0x7d7a81053ca0>"
            ]
          },
          "metadata": {},
          "execution_count": 16
        }
      ]
    },
    {
      "cell_type": "code",
      "source": [
        "env.run(until=15)"
      ],
      "metadata": {
        "colab": {
          "base_uri": "https://localhost:8080/"
        },
        "id": "6ifdgksaZfMP",
        "outputId": "18201bbc-fa20-4960-be00-9ead81f0e2a1"
      },
      "execution_count": null,
      "outputs": [
        {
          "output_type": "stream",
          "name": "stdout",
          "text": [
            "Start parking at 0\n",
            "Start driving at 5\n",
            "Start parking at 7\n",
            "Start driving at 12\n",
            "Start parking at 14\n"
          ]
        }
      ]
    },
    {
      "cell_type": "markdown",
      "source": [
        "Los eventos se organizan por prioridad y tiempo, y pueden tener callbacks y valores de retorno. Los componentes principales son el Entorno (`Environment`), los eventos (`events`) y las funciones de proceso (`simpy.events.Process`), que definen el comportamiento de la simulación. Cuando una función de proceso genera un evento, se suspende hasta que el evento se activa, momento en el cual puede recibir el valor del evento. (En el caso del carro los tiempos en que parquea el carro)"
      ],
      "metadata": {
        "id": "k8j1ADnqZxOY"
      }
    },
    {
      "cell_type": "code",
      "source": [
        "#Otro Ejemplo\n",
        "import simpy\n",
        "\n",
        "def example(env):   #Creamos una instancia para la simulación\n",
        "  event = simpy.events.Timeout(env, delay=1, value=42) #Se crea el evento tipo Timeout el cual proramará su ejecución a un 1 segundo después de iniciado el programa y un valor asociado a 42\n",
        "  value = yield event #example va a parar hasta que event se active. Cuando el evento se activa, el valor asociado (42) se asigna a la variable value.\n",
        "  #\"Yield pausará la ejecución de la función hasta que el evento ocurra.\"\n",
        "  print('now=%d, value=%d' % (env.now, value))#Cuando el evento se activa y la función se reanuda, se imprime el tiempo actual del entorno y el valor del evento (value), que es 42.\n",
        "\n",
        "env = simpy.Environment() #Se crea esto para gestionar los eventos y el tiempo de la simulación\n",
        "example_gen = example(env) #Se crea un generador a partir de la función example, pasando el entorno env como argumento\n",
        "p = simpy.events.Process(env, example_gen) # Se crea un proceso en el entorno env utilizando el generador example_gen. Example parte de la simulación\n",
        "\n",
        "env.run()\n",
        "print()"
      ],
      "metadata": {
        "colab": {
          "base_uri": "https://localhost:8080/"
        },
        "id": "aFKSkOF3ZwWY",
        "outputId": "6bc23466-6ac9-4edc-b90f-13c25b9630f0"
      },
      "execution_count": null,
      "outputs": [
        {
          "output_type": "stream",
          "name": "stdout",
          "text": [
            "now=1, value=42\n",
            "\n"
          ]
        }
      ]
    },
    {
      "cell_type": "markdown",
      "source": [
        "Funciones Importantes de SimPy aparte de `environment` y `event` son:\n",
        "\n",
        "Para el uso de los recursos que pueden ser utilizados para modelar, sobre todo si son por recursos limitados:\n",
        "- `Resource`: Un recurso básico que permite a los procesos solicitar y liberar recursos.\n",
        "\n",
        "- `PriorityResource`: Similar a `Resource`, pero permite la gestión de prioridades entre los procesos que solicitan el recurso.\n",
        "\n",
        "- `Container`: Utilizado para modelar recursos que tienen una capacidad variable, como el almacenamiento de productos.\n",
        "\n",
        "`Process` Estos son funciones generadoras que plasman actividades en la simulación. Se definen utilizando `yield` para señalar cuándo un proceso debe esperar (por ejemplo, por un recurso o un evento). Los procesos usan para modelar cualquier cosa que tenga una duración en el tiempo.\n",
        "\n",
        "`Interrupt`:Se mencionó antes esto, esto interrumpe procesos. Esto es útil para modelar situaciones en las que un proceso puede ser interrumpido por otro evento o proceso, permitiendo una mayores facilidades en la simulación y ahorra recursos.\n",
        "\n",
        "`timeout`: Permite a los procesos esperar un período de tiempo dado antes de continuar. Sirve para simular retrasos o tiempos de espera."
      ],
      "metadata": {
        "id": "V8ZvcbiIl0Vp"
      }
    },
    {
      "cell_type": "markdown",
      "source": [
        "`RealtimeEnvironment` es una clase en SimPy que se utiliza para simular entornos en tiempo real. A diferencia de un `Environment` estándar, que avanza el tiempo de simulación de manera discreta, `RealtimeEnvironment` permite que la simulación avance en tiempo real, lo que significa que el tiempo de simulación se sincroniza con el tiempo real del sistema.\n",
        "\n",
        "Es usado en situaciones donde la simulación refleje el tiempo real, como en simulaciones de sistemas que interactúan con el mundo real. Al igual que en un `Environment` estándar, se `yield env.timeout(tiempo)` para simular la duración de eventos, pero en este caso, el tiempo se mide en tiempo real.\n",
        "\n"
      ],
      "metadata": {
        "id": "wTLm6lpHthsj"
      }
    },
    {
      "cell_type": "code",
      "source": [
        "import simpy\n",
        "\n",
        "def proceso(env):\n",
        "  print(f'Proceso comienza en {env.now}')\n",
        "  yield env.timeout(5)  # Simula un proceso que dura 5 segundos\n",
        "  print(f'Proceso termina en {env.now}')\n",
        "\n",
        "# Creación de un entorno en tiempo real\n",
        "env = simpy.RealtimeEnvironment()\n",
        "env.process(proceso(env))\n",
        "\n",
        "# Ejecutar la simulación\n",
        "env.run()\n"
      ],
      "metadata": {
        "colab": {
          "base_uri": "https://localhost:8080/"
        },
        "id": "AOZAVSNDfv5o",
        "outputId": "7091e303-4610-4ce7-fef4-a6eb3a925f74"
      },
      "execution_count": null,
      "outputs": [
        {
          "output_type": "stream",
          "name": "stdout",
          "text": [
            "Proceso comienza en 0\n",
            "Proceso termina en 5\n"
          ]
        }
      ]
    }
  ]
}