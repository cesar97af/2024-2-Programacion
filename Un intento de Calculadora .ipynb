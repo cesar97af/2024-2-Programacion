{
 "cells": [
  {
   "cell_type": "markdown",
   "metadata": {},
   "source": [
    "Intento de creción de una calculadora básica"
   ]
  },
  {
   "cell_type": "code",
   "execution_count": 1,
   "metadata": {},
   "outputs": [],
   "source": [
    "def suma(a, b):\n",
    "    return a + b\n",
    "\n",
    "def resta(a, b):\n",
    "    return a - b\n",
    "\n",
    "def multiplicacion(a, b):\n",
    "    return a * b\n",
    "\n",
    "def division(a, b):\n",
    "    if b != 0:\n",
    "        return a / b\n",
    "    else:\n",
    "        return \"Error: División por cero no permitida\""
   ]
  },
  {
   "cell_type": "markdown",
   "metadata": {},
   "source": [
    "En el anterior se definen las operaciones, notese que en la parte de la división se tubo que reajustar a un ciclo, ya que si b es igual a cero , la operación será incongruente; en estye caso la esta función {if b != 0:} determina si b no es cero; Si b no es cero, la función dará el resultado de la división a / b.\n",
    "Si b es igual a cero, la función envía el mensaje: “Error: División por cero no permitida”."
   ]
  },
  {
   "cell_type": "code",
   "execution_count": 2,
   "metadata": {},
   "outputs": [
    {
     "name": "stdout",
     "output_type": "stream",
     "text": [
      "Calculadora Sencilla\n",
      "Qué operación quiere realizar:\n",
      "1. Suma\n",
      "2. Resta\n",
      "3. Multiplicación\n",
      "4. División\n",
      "Entrada no válida, por favor intente de nuevo.\n",
      "Resultado: 12.0 + 34.0 = 46.0\n",
      "Saliendo de la calculadora.\n"
     ]
    }
   ],
   "source": [
    "def calculadora():\n",
    "    print(\"Calculadora Sencilla\")\n",
    "    print(\"Qué operación quiere realizar:\")\n",
    "    print(\"1. Suma\")\n",
    "    print(\"2. Resta\")\n",
    "    print(\"3. Multiplicación\")\n",
    "    print(\"4. División\")\n",
    "    \n",
    "    while True:\n",
    "        operacion = input(\"Ingrese el número de la operación (1/2/3/4) o 'q' para salir: \")\n",
    "        \n",
    "        if operacion == 'q':\n",
    "            print(\"Saliendo de la calculadora.\")\n",
    "            break\n",
    "        \n",
    "        if operacion in ('1', '2', '3', '4'):\n",
    "            num1 = float(input(\"Ingrese el primer número: \"))\n",
    "            num2 = float(input(\"Ingrese el segundo número: \"))\n",
    "            \n",
    "            if operacion == '1':\n",
    "                print(f\"Resultado: {num1} + {num2} = {suma(num1, num2)}\")\n",
    "            elif operacion == '2':\n",
    "                print(f\"Resultado: {num1} - {num2} = {resta(num1, num2)}\")\n",
    "            elif operacion == '3':\n",
    "                print(f\"Resultado: {num1} * {num2} = {multiplicacion(num1, num2)}\")\n",
    "            elif operacion == '4':\n",
    "                print(f\"Resultado: {num1} / {num2} = {division(num1, num2)}\")\n",
    "        else:\n",
    "            print(\"Entrada no válida, por favor intente de nuevo.\")\n",
    "# Ejecución\n",
    "calculadora()"
   ]
  },
  {
   "cell_type": "markdown",
   "metadata": {},
   "source": [
    "En la anterior se crea otro ciclo de tal manera que si no se presiona \"q\" este no se va a detener, es decir {while True} es el comando que me dicta el bucle infinito hasta que se le ordene parar,Si se ingresa ‘q’, el programa mostrará “Saliendo de la calculadora.” y romperá el bucle con {break}. Si el usuario ingresa un número válido (1, 2, 3 o 4), se le solicita ingresar dos números (num1 y num2). Dependiendo de la operación seleccionada, se realiza la operación correspondiente y se muestra el resultado.\n",
    "Si el usuario ingresa un valor no válido (que no es ‘1’, ‘2’, ‘3’, ‘4’ o ‘q’), se muestra “Entrada no válida, por favor intente de nuevo.”"
   ]
  }
 ],
 "metadata": {
  "kernelspec": {
   "display_name": "Python 3",
   "language": "python",
   "name": "python3"
  },
  "language_info": {
   "codemirror_mode": {
    "name": "ipython",
    "version": 3
   },
   "file_extension": ".py",
   "mimetype": "text/x-python",
   "name": "python",
   "nbconvert_exporter": "python",
   "pygments_lexer": "ipython3",
   "version": "3.12.5"
  }
 },
 "nbformat": 4,
 "nbformat_minor": 2
}
