{
  "nbformat": 4,
  "nbformat_minor": 0,
  "metadata": {
    "colab": {
      "provenance": [],
      "authorship_tag": "ABX9TyMAGqp9tA0s3nZj3xsXqYZN",
      "include_colab_link": true
    },
    "kernelspec": {
      "name": "python3",
      "display_name": "Python 3"
    },
    "language_info": {
      "name": "python"
    }
  },
  "cells": [
    {
      "cell_type": "markdown",
      "metadata": {
        "id": "view-in-github",
        "colab_type": "text"
      },
      "source": [
        "<a href=\"https://colab.research.google.com/github/cesar97af/2024-2-Programacion/blob/master/Intento_de_ejemplo_N1.ipynb\" target=\"_parent\"><img src=\"https://colab.research.google.com/assets/colab-badge.svg\" alt=\"Open In Colab\"/></a>"
      ]
    },
    {
      "cell_type": "code",
      "source": [
        "import torch  # Importamos PyTorch\n",
        "import torch.nn as nn  # Importamos el módulo nn de PyTorch\n",
        "import torch.optim as optim # Importamos el módulo optim de Pytorch"
      ],
      "metadata": {
        "id": "CVbXiu9a5Txa"
      },
      "execution_count": null,
      "outputs": []
    },
    {
      "cell_type": "markdown",
      "source": [
        "Este ejemplo básico muostrará cómo se puede construir una red neuronal para modelar un fenómeno físico (caída libre), para llegar a hacer predicciones"
      ],
      "metadata": {
        "id": "gELa4m2e6ZDr"
      }
    },
    {
      "cell_type": "code",
      "execution_count": null,
      "metadata": {
        "id": "NjQn0Wca5Mk7"
      },
      "outputs": [],
      "source": [
        "# Definimos una red neuronal simple\n",
        "class GravityModel(nn.Module):\n",
        "  def __init__(self):\n",
        "    super(GravityModel, self).__init__()\n",
        "    self.fc1 = nn.Linear(1, 10)  # Entrada de 1, capa oculta de 10\n",
        "    self.fc2 = nn.Linear(10, 1)  # Salida de 1\n",
        "\n",
        "  def forward(self, x):\n",
        "    x = torch.relu(self.fc1(x))  # Función de activación ReLU\n",
        "    x = self.fc2(x)  # Capa de salida\n",
        "    return x"
      ]
    },
    {
      "cell_type": "code",
      "source": [
        "# Instanciamos el modelo\n",
        "model = GravityModel()\n",
        "\n",
        "# Definimos el optimizador y la función de pérdida\n",
        "optimizer = optim.SGD(model.parameters(), lr=0.01)\n",
        "criterion = nn.MSELoss()\n",
        "\n",
        "# Datos de entrenamiento (tiempo vs posición de un objeto en caída libre)\n",
        "# Suponiendo que la posición se calcula como s(t) = 1/2 * g * t^2 (g = 9.8 m/s^2)\n",
        "# Usamos una pequeña muestra de datos\n",
        "inputs = torch.tensor([[1.0], [2.0], [3.0], [4.0], [5.0]], dtype=torch.float32)\n",
        "outputs = torch.tensor([[4.9], [19.6], [44.1], [78.4], [122.5]], dtype=torch.float32)"
      ],
      "metadata": {
        "id": "dBP3yqRB53O1"
      },
      "execution_count": null,
      "outputs": []
    },
    {
      "cell_type": "code",
      "source": [
        "# Entrenamiento\n",
        "for epoch in range(5000):\n",
        "    model.train()\n",
        "    optimizer.zero_grad()  # Reseteamos los gradientes\n",
        "\n",
        "    # Forward pass\n",
        "    predictions = model(inputs)\n",
        "\n",
        "    # Calculamos la pérdida\n",
        "    loss = criterion(predictions, outputs)\n",
        "\n",
        "    # Backpropagation\n",
        "    loss.backward()\n",
        "    optimizer.step()\n",
        "\n",
        "    if (epoch + 1) % 50 == 0:\n",
        "        print(f'Epoch [{epoch+1}/500], Loss: {loss.item():.4f}')"
      ],
      "metadata": {
        "colab": {
          "base_uri": "https://localhost:8080/"
        },
        "id": "Xjhihxqz5-B1",
        "outputId": "3cc83e6f-032f-4be8-a7cf-3300c96dbb27"
      },
      "execution_count": null,
      "outputs": [
        {
          "output_type": "stream",
          "name": "stdout",
          "text": [
            "Epoch [50/500], Loss: 2257.1099\n",
            "Epoch [100/500], Loss: 1857.1072\n",
            "Epoch [150/500], Loss: 1804.0590\n",
            "Epoch [200/500], Loss: 1797.0234\n",
            "Epoch [250/500], Loss: 1796.0906\n",
            "Epoch [300/500], Loss: 1795.9668\n",
            "Epoch [350/500], Loss: 1795.9504\n",
            "Epoch [400/500], Loss: 1795.9480\n",
            "Epoch [450/500], Loss: 1795.9480\n",
            "Epoch [500/500], Loss: 1795.9479\n",
            "Epoch [550/500], Loss: 1795.9476\n",
            "Epoch [600/500], Loss: 1795.9480\n",
            "Epoch [650/500], Loss: 1795.9480\n",
            "Epoch [700/500], Loss: 1795.9480\n",
            "Epoch [750/500], Loss: 1795.9480\n",
            "Epoch [800/500], Loss: 1795.9480\n",
            "Epoch [850/500], Loss: 1795.9480\n",
            "Epoch [900/500], Loss: 1795.9480\n",
            "Epoch [950/500], Loss: 1795.9480\n",
            "Epoch [1000/500], Loss: 1795.9480\n",
            "Epoch [1050/500], Loss: 1795.9480\n",
            "Epoch [1100/500], Loss: 1795.9480\n",
            "Epoch [1150/500], Loss: 1795.9480\n",
            "Epoch [1200/500], Loss: 1795.9480\n",
            "Epoch [1250/500], Loss: 1795.9480\n",
            "Epoch [1300/500], Loss: 1795.9480\n",
            "Epoch [1350/500], Loss: 1795.9480\n",
            "Epoch [1400/500], Loss: 1795.9480\n",
            "Epoch [1450/500], Loss: 1795.9480\n",
            "Epoch [1500/500], Loss: 1795.9480\n",
            "Epoch [1550/500], Loss: 1795.9480\n",
            "Epoch [1600/500], Loss: 1795.9480\n",
            "Epoch [1650/500], Loss: 1795.9480\n",
            "Epoch [1700/500], Loss: 1795.9480\n",
            "Epoch [1750/500], Loss: 1795.9480\n",
            "Epoch [1800/500], Loss: 1795.9480\n",
            "Epoch [1850/500], Loss: 1795.9480\n",
            "Epoch [1900/500], Loss: 1795.9480\n",
            "Epoch [1950/500], Loss: 1795.9480\n",
            "Epoch [2000/500], Loss: 1795.9480\n",
            "Epoch [2050/500], Loss: 1795.9480\n",
            "Epoch [2100/500], Loss: 1795.9480\n",
            "Epoch [2150/500], Loss: 1795.9480\n",
            "Epoch [2200/500], Loss: 1795.9480\n",
            "Epoch [2250/500], Loss: 1795.9480\n",
            "Epoch [2300/500], Loss: 1795.9480\n",
            "Epoch [2350/500], Loss: 1795.9480\n",
            "Epoch [2400/500], Loss: 1795.9480\n",
            "Epoch [2450/500], Loss: 1795.9480\n",
            "Epoch [2500/500], Loss: 1795.9480\n",
            "Epoch [2550/500], Loss: 1795.9480\n",
            "Epoch [2600/500], Loss: 1795.9480\n",
            "Epoch [2650/500], Loss: 1795.9480\n",
            "Epoch [2700/500], Loss: 1795.9480\n",
            "Epoch [2750/500], Loss: 1795.9480\n",
            "Epoch [2800/500], Loss: 1795.9480\n",
            "Epoch [2850/500], Loss: 1795.9480\n",
            "Epoch [2900/500], Loss: 1795.9480\n",
            "Epoch [2950/500], Loss: 1795.9480\n",
            "Epoch [3000/500], Loss: 1795.9480\n",
            "Epoch [3050/500], Loss: 1795.9480\n",
            "Epoch [3100/500], Loss: 1795.9480\n",
            "Epoch [3150/500], Loss: 1795.9480\n",
            "Epoch [3200/500], Loss: 1795.9480\n",
            "Epoch [3250/500], Loss: 1795.9480\n",
            "Epoch [3300/500], Loss: 1795.9480\n",
            "Epoch [3350/500], Loss: 1795.9480\n",
            "Epoch [3400/500], Loss: 1795.9480\n",
            "Epoch [3450/500], Loss: 1795.9480\n",
            "Epoch [3500/500], Loss: 1795.9480\n",
            "Epoch [3550/500], Loss: 1795.9480\n",
            "Epoch [3600/500], Loss: 1795.9480\n",
            "Epoch [3650/500], Loss: 1795.9480\n",
            "Epoch [3700/500], Loss: 1795.9480\n",
            "Epoch [3750/500], Loss: 1795.9480\n",
            "Epoch [3800/500], Loss: 1795.9480\n",
            "Epoch [3850/500], Loss: 1795.9480\n",
            "Epoch [3900/500], Loss: 1795.9480\n",
            "Epoch [3950/500], Loss: 1795.9480\n",
            "Epoch [4000/500], Loss: 1795.9480\n",
            "Epoch [4050/500], Loss: 1795.9480\n",
            "Epoch [4100/500], Loss: 1795.9480\n",
            "Epoch [4150/500], Loss: 1795.9480\n",
            "Epoch [4200/500], Loss: 1795.9480\n",
            "Epoch [4250/500], Loss: 1795.9480\n",
            "Epoch [4300/500], Loss: 1795.9480\n",
            "Epoch [4350/500], Loss: 1795.9480\n",
            "Epoch [4400/500], Loss: 1795.9480\n",
            "Epoch [4450/500], Loss: 1795.9480\n",
            "Epoch [4500/500], Loss: 1795.9480\n",
            "Epoch [4550/500], Loss: 1795.9480\n",
            "Epoch [4600/500], Loss: 1795.9480\n",
            "Epoch [4650/500], Loss: 1795.9480\n",
            "Epoch [4700/500], Loss: 1795.9480\n",
            "Epoch [4750/500], Loss: 1795.9480\n",
            "Epoch [4800/500], Loss: 1795.9480\n",
            "Epoch [4850/500], Loss: 1795.9480\n",
            "Epoch [4900/500], Loss: 1795.9480\n",
            "Epoch [4950/500], Loss: 1795.9480\n",
            "Epoch [5000/500], Loss: 1795.9480\n"
          ]
        }
      ]
    },
    {
      "cell_type": "code",
      "source": [
        "# Probamos el modelo\n",
        "model.eval()\n",
        "test_input = torch.tensor([[9.0]], dtype=torch.float32)\n",
        "predicted_position = model(test_input)\n",
        "print(f'Predicción de la posición en t=9s: {predicted_position.item()}')"
      ],
      "metadata": {
        "colab": {
          "base_uri": "https://localhost:8080/"
        },
        "id": "3KBsTSlq6B0d",
        "outputId": "6ca05a7a-94fd-4328-dbf1-a8630347f639"
      },
      "execution_count": null,
      "outputs": [
        {
          "output_type": "stream",
          "name": "stdout",
          "text": [
            "Predicción de la posición en t=9s: 53.899906158447266\n"
          ]
        }
      ]
    }
  ]
}